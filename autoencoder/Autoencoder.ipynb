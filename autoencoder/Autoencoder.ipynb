{
 "cells": [
  {
   "cell_type": "markdown",
   "id": "34d555ec",
   "metadata": {},
   "source": [
    "# Основная часть"
   ]
  },
  {
   "cell_type": "code",
   "execution_count": 1,
   "id": "a76040c4",
   "metadata": {},
   "outputs": [],
   "source": [
    "import os\n",
    "import random\n",
    "\n",
    "import cv2\n",
    "import matplotlib.pyplot as plt\n",
    "import numpy as np\n",
    "import pandas as pd\n",
    "import pytorch_lightning as pl\n",
    "import torch\n",
    "from pytorch_lightning.callbacks.early_stopping import EarlyStopping\n",
    "from pytorch_lightning.callbacks import ModelCheckpoint\n",
    "from torch import nn\n",
    "from torch.nn import functional as F\n",
    "from torch.utils.data import DataLoader\n",
    "from torch.utils.data import Dataset\n",
    "from torchvision import transforms\n",
    "from torchvision.datasets import MNIST"
   ]
  },
  {
   "cell_type": "code",
   "execution_count": 2,
   "id": "78a349ed",
   "metadata": {},
   "outputs": [],
   "source": [
    "DATASET_PATH = 'mnist_data'"
   ]
  },
  {
   "cell_type": "code",
   "execution_count": 3,
   "id": "8db2eca0",
   "metadata": {},
   "outputs": [],
   "source": [
    "class NoiseTransform(object):\n",
    "    def __init__(self, p):\n",
    "        self.p = p\n",
    "    def __call__(self, image):\n",
    "        image = np.array(image, dtype=np.float32)\n",
    "        if random.random() <= self.p:\n",
    "            noise_factor = 0.4\n",
    "            noisy_image = image + noise_factor * np.random.normal(\n",
    "                loc=0.0, scale=1.0, size=image.shape\n",
    "            )\n",
    "\n",
    "            return np.clip(noisy_image, 0.0, 1.0).astype(np.float32)\n",
    "        else:\n",
    "            return image"
   ]
  },
  {
   "cell_type": "code",
   "execution_count": 4,
   "id": "7c70ecc3",
   "metadata": {},
   "outputs": [],
   "source": [
    "transform = transforms.Compose([NoiseTransform(p=0.75),transforms.ToTensor()])"
   ]
  },
  {
   "cell_type": "code",
   "execution_count": 5,
   "id": "0903d095",
   "metadata": {},
   "outputs": [],
   "source": [
    "def visualize_images(data, n_rows, n_cols):\n",
    "    n_samples = n_rows * n_cols\n",
    "\n",
    "    if len(data) != n_samples:\n",
    "        sample_indices = np.random.choice(len(data), n_samples, replace=len(data) < n_samples)\n",
    "    else:\n",
    "        sample_indices = np.arange(len(data)).astype(int)\n",
    "\n",
    "    plt.figure(figsize=(int(2.5 * n_cols), int(2.5 * n_rows)))\n",
    "    for i, sample_index in enumerate(sample_indices):\n",
    "        plt.subplot(n_rows, n_cols, i + 1)\n",
    "        plt.imshow(data[sample_index][0], cmap='gray')\n",
    "        plt.axis(\"off\")\n",
    "    plt.show()"
   ]
  },
  {
   "cell_type": "code",
   "execution_count": 6,
   "id": "4d0fd472",
   "metadata": {},
   "outputs": [],
   "source": [
    "class MNISTDataset(Dataset):\n",
    "    def __init__(self, train=True, transform=transforms.ToTensor(), label_transform=transforms.ToTensor()):\n",
    "        # list of tuples: (img_path, label)\n",
    "        self._data = MNIST(DATASET_PATH, train=train, download=True)\n",
    "        # for augmentation\n",
    "        self._transform = transform\n",
    "        self._label_transform = label_transform\n",
    "\n",
    "    def __len__(self):\n",
    "        return len(self._data)\n",
    "\n",
    "    def __getitem__(self, index):\n",
    "        img, label = self._data[index]\n",
    "\n",
    "        img_noisy = self._transform(img)\n",
    "        img = self._label_transform(img)\n",
    "\n",
    "        return img_noisy, img"
   ]
  },
  {
   "cell_type": "code",
   "execution_count": 7,
   "id": "b8d805ab",
   "metadata": {},
   "outputs": [],
   "source": [
    "class AutoEncoder(nn.Module):\n",
    "    def __init__(self):\n",
    "        super().__init__()\n",
    "        # Encoder\n",
    "        self.enc_conv1 = nn.Conv2d(1, 32, 3, padding=(1,1))\n",
    "        self.enc_pool1 = nn.MaxPool2d(2, 2)\n",
    "        self.enc_conv2 = nn.Conv2d(32, 32, 3, padding=(1,1))\n",
    "        self.enc_pool2 = nn.MaxPool2d(2, 2)\n",
    "        # Decoder\n",
    "        self.dec_tconv1 = nn.ConvTranspose2d(32, 32, 3, stride=2, padding=1, output_padding=1)\n",
    "        self.dec_tconv2 = nn.ConvTranspose2d(32, 32, 3, stride=2, padding=1, output_padding=1)\n",
    "        self.dec_conv1 = nn.Conv2d(32, 1, 3, padding=(1,1))\n",
    "    def forward(self, x):\n",
    "        # Encoder\n",
    "        x = self.enc_pool1(F.relu(self.enc_conv1(x)))\n",
    "        x = self.enc_pool2(F.relu(self.enc_conv2(x)))\n",
    "        \n",
    "        # Decoder\n",
    "        x = F.relu(self.dec_tconv1(x))\n",
    "        x = F.relu(self.dec_tconv2(x))\n",
    "        print(x[0])\n",
    "        \n",
    "        x = torch.sigmoid(self.dec_conv1(x))\n",
    "        return x"
   ]
  },
  {
   "cell_type": "code",
   "execution_count": 8,
   "id": "2effce05",
   "metadata": {},
   "outputs": [],
   "source": [
    "class AutoEncoderModule(pl.LightningModule):\n",
    "    def __init__(self):\n",
    "        super().__init__()\n",
    "        self.autoencoder = AutoEncoder()\n",
    "\n",
    "        self.loss = nn.BCELoss()\n",
    "\n",
    "    def forward(self, x):\n",
    "        x = self.autoencoder(x)\n",
    "        return x\n",
    "\n",
    "    def training_step(self, batch, batch_idx):\n",
    "        noisy_img, img = batch\n",
    "\n",
    "        denoised_img = self(noisy_img)\n",
    "        loss = self.loss(denoised_img, img)\n",
    "\n",
    "        return {'loss': loss}\n",
    "\n",
    "    def configure_optimizers(self):\n",
    "        \"\"\" Define optimizers and LR schedulers. \"\"\"\n",
    "        optimizer = torch.optim.Adam(self.parameters(), lr=1e-3, weight_decay=5e-4)\n",
    "\n",
    "        lr_scheduler = torch.optim.lr_scheduler.ReduceLROnPlateau(optimizer,\n",
    "                                                                  mode='min',\n",
    "                                                                  factor=0.2,\n",
    "                                                                  patience=5,\n",
    "                                                                  verbose=True)\n",
    "        lr_dict = {\n",
    "            # REQUIRED: The scheduler instance\n",
    "            \"scheduler\": lr_scheduler,\n",
    "            # The unit of the scheduler's step size, could also be 'step'.\n",
    "            # 'epoch' updates the scheduler on epoch end whereas 'step'\n",
    "            # updates it after a optimizer update.\n",
    "            \"interval\": \"epoch\",\n",
    "            # How many epochs/steps should pass between calls to\n",
    "            # `scheduler.step()`. 1 corresponds to updating the learning\n",
    "            # rate after every epoch/step.\n",
    "            \"frequency\": 1,\n",
    "            # Metric to to monitor for schedulers like `ReduceLROnPlateau`\n",
    "            \"monitor\": \"val_loss\"\n",
    "        }\n",
    "\n",
    "        return [optimizer], [lr_dict]\n",
    "\n",
    "    def validation_step(self, batch, batch_idx):\n",
    "        noisy_img, img = batch\n",
    "\n",
    "        denoised_img = self(noisy_img)\n",
    "        loss = self.loss(denoised_img, img)\n",
    "\n",
    "        return {'val_loss': loss}\n",
    "\n",
    "    def training_epoch_end(self, outputs):\n",
    "        \"\"\"log and display average train loss across epoch\"\"\"\n",
    "        avg_loss = torch.stack([x['loss'] for x in outputs]).mean()\n",
    "\n",
    "        print(f\"| Train_loss: {avg_loss:.5f}\")\n",
    "\n",
    "        self.log('train_loss', avg_loss, prog_bar=True, on_epoch=True, on_step=False)\n",
    "\n",
    "    # OPTIONAL\n",
    "    def validation_epoch_end(self, outputs):\n",
    "        \"\"\"log and display average val loss\"\"\"\n",
    "        avg_loss = torch.stack([x['val_loss'] for x in outputs]).mean()\n",
    "\n",
    "        print(f\"[Epoch {self.trainer.current_epoch:3}] Val_loss: {avg_loss:.5f}\", end=\" \")\n",
    "\n",
    "        self.log('val_loss', avg_loss, prog_bar=True, on_epoch=True, on_step=False)"
   ]
  },
  {
   "cell_type": "code",
   "execution_count": 9,
   "id": "19fbcd85",
   "metadata": {},
   "outputs": [],
   "source": [
    "train_dataset = MNISTDataset(train=True, transform=transform)\n",
    "val_dataset = MNISTDataset(train=False, transform=transform)"
   ]
  },
  {
   "cell_type": "code",
   "execution_count": 10,
   "id": "377950ae",
   "metadata": {},
   "outputs": [],
   "source": [
    "train_dl = DataLoader(train_dataset, batch_size=32, shuffle=True, num_workers=4)\n",
    "val_dl = DataLoader(val_dataset, batch_size=32, shuffle=False, num_workers=4)"
   ]
  },
  {
   "cell_type": "code",
   "execution_count": 11,
   "id": "0c446067",
   "metadata": {},
   "outputs": [
    {
     "data": {
      "image/png": "[encoded data removed]",
      "text/plain": [
       "<Figure size 1440x360 with 16 Axes>"
      ]
     },
     "metadata": {
      "needs_background": "light"
     },
     "output_type": "display_data"
    },
    {
     "data": {
      "image/png": "[encoded data removed]",
      "text/plain": [
       "<Figure size 1440x360 with 16 Axes>"
      ]
     },
     "metadata": {
      "needs_background": "light"
     },
     "output_type": "display_data"
    }
   ],
   "source": [
    "sample_batch = next(iter(train_dl))\n",
    "visualize_images(sample_batch[0], 2, 8)\n",
    "visualize_images(sample_batch[1], 2, 8)"
   ]
  },
  {
   "cell_type": "code",
   "execution_count": 12,
   "id": "ec93ffbd",
   "metadata": {},
   "outputs": [
    {
     "name": "stderr",
     "output_type": "stream",
     "text": [
      "GPU available: True, used: True\n",
      "TPU available: False, using: 0 TPU cores\n",
      "IPU available: False, using: 0 IPUs\n",
      "LOCAL_RANK: 0 - CUDA_VISIBLE_DEVICES: [2]\n",
      "\n",
      "  | Name        | Type        | Params\n",
      "--------------------------------------------\n",
      "0 | autoencoder | AutoEncoder | 28.4 K\n",
      "1 | loss        | BCELoss     | 0     \n",
      "--------------------------------------------\n",
      "28.4 K    Trainable params\n",
      "0         Non-trainable params\n",
      "28.4 K    Total params\n",
      "0.113     Total estimated model params size (MB)\n",
      "/home/v.pyatov/anaconda3/envs/ImgReg/lib/python3.7/site-packages/pytorch_lightning/callbacks/model_checkpoint.py:623: UserWarning: Checkpoint directory /home/v.pyatov/cuda_prac/autoencoder/runs/pl_encoder exists and is not empty.\n",
      "  rank_zero_warn(f\"Checkpoint directory {dirpath} exists and is not empty.\")\n"
     ]
    },
    {
     "data": {
      "application/vnd.jupyter.widget-view+json": {
       "model_id": "",
       "version_major": 2,
       "version_minor": 0
      },
      "text/plain": [
       "Validation sanity check: 0it [00:00, ?it/s]"
      ]
     },
     "metadata": {},
     "output_type": "display_data"
    },
    {
     "name": "stdout",
     "output_type": "stream",
     "text": [
      "[Epoch   0] Val_loss: 0.69417 "
     ]
    },
    {
     "data": {
      "application/vnd.jupyter.widget-view+json": {
       "model_id": "4016d3faaae24416bbcc4eb9e66a5292",
       "version_major": 2,
       "version_minor": 0
      },
      "text/plain": [
       "Training: 0it [00:00, ?it/s]"
      ]
     },
     "metadata": {},
     "output_type": "display_data"
    },
    {
     "data": {
      "application/vnd.jupyter.widget-view+json": {
       "model_id": "",
       "version_major": 2,
       "version_minor": 0
      },
      "text/plain": [
       "Validating: 0it [00:00, ?it/s]"
      ]
     },
     "metadata": {},
     "output_type": "display_data"
    },
    {
     "name": "stdout",
     "output_type": "stream",
     "text": [
      "[Epoch   0] Val_loss: 0.08342 | Train_loss: 0.10423\n"
     ]
    },
    {
     "data": {
      "application/vnd.jupyter.widget-view+json": {
       "model_id": "",
       "version_major": 2,
       "version_minor": 0
      },
      "text/plain": [
       "Validating: 0it [00:00, ?it/s]"
      ]
     },
     "metadata": {},
     "output_type": "display_data"
    },
    {
     "name": "stdout",
     "output_type": "stream",
     "text": [
      "[Epoch   1] Val_loss: 0.08126 | Train_loss: 0.08342\n"
     ]
    },
    {
     "data": {
      "application/vnd.jupyter.widget-view+json": {
       "model_id": "",
       "version_major": 2,
       "version_minor": 0
      },
      "text/plain": [
       "Validating: 0it [00:00, ?it/s]"
      ]
     },
     "metadata": {},
     "output_type": "display_data"
    },
    {
     "name": "stdout",
     "output_type": "stream",
     "text": [
      "[Epoch   2] Val_loss: 0.08137 | Train_loss: 0.08225\n"
     ]
    },
    {
     "data": {
      "application/vnd.jupyter.widget-view+json": {
       "model_id": "",
       "version_major": 2,
       "version_minor": 0
      },
      "text/plain": [
       "Validating: 0it [00:00, ?it/s]"
      ]
     },
     "metadata": {},
     "output_type": "display_data"
    },
    {
     "name": "stdout",
     "output_type": "stream",
     "text": [
      "[Epoch   3] Val_loss: 0.08015 | Train_loss: 0.08167\n"
     ]
    },
    {
     "data": {
      "application/vnd.jupyter.widget-view+json": {
       "model_id": "",
       "version_major": 2,
       "version_minor": 0
      },
      "text/plain": [
       "Validating: 0it [00:00, ?it/s]"
      ]
     },
     "metadata": {},
     "output_type": "display_data"
    },
    {
     "name": "stdout",
     "output_type": "stream",
     "text": [
      "[Epoch   4] Val_loss: 0.08134 | Train_loss: 0.08135\n"
     ]
    },
    {
     "data": {
      "application/vnd.jupyter.widget-view+json": {
       "model_id": "",
       "version_major": 2,
       "version_minor": 0
      },
      "text/plain": [
       "Validating: 0it [00:00, ?it/s]"
      ]
     },
     "metadata": {},
     "output_type": "display_data"
    },
    {
     "name": "stdout",
     "output_type": "stream",
     "text": [
      "[Epoch   5] Val_loss: 0.08026 | Train_loss: 0.08112\n"
     ]
    },
    {
     "data": {
      "application/vnd.jupyter.widget-view+json": {
       "model_id": "",
       "version_major": 2,
       "version_minor": 0
      },
      "text/plain": [
       "Validating: 0it [00:00, ?it/s]"
      ]
     },
     "metadata": {},
     "output_type": "display_data"
    },
    {
     "name": "stdout",
     "output_type": "stream",
     "text": [
      "[Epoch   6] Val_loss: 0.07999 | Train_loss: 0.08106\n"
     ]
    },
    {
     "data": {
      "application/vnd.jupyter.widget-view+json": {
       "model_id": "",
       "version_major": 2,
       "version_minor": 0
      },
      "text/plain": [
       "Validating: 0it [00:00, ?it/s]"
      ]
     },
     "metadata": {},
     "output_type": "display_data"
    },
    {
     "name": "stdout",
     "output_type": "stream",
     "text": [
      "[Epoch   7] Val_loss: 0.08101 | Train_loss: 0.08083\n"
     ]
    },
    {
     "data": {
      "application/vnd.jupyter.widget-view+json": {
       "model_id": "",
       "version_major": 2,
       "version_minor": 0
      },
      "text/plain": [
       "Validating: 0it [00:00, ?it/s]"
      ]
     },
     "metadata": {},
     "output_type": "display_data"
    },
    {
     "name": "stdout",
     "output_type": "stream",
     "text": [
      "[Epoch   8] Val_loss: 0.07994 | Train_loss: 0.08078\n"
     ]
    },
    {
     "data": {
      "application/vnd.jupyter.widget-view+json": {
       "model_id": "",
       "version_major": 2,
       "version_minor": 0
      },
      "text/plain": [
       "Validating: 0it [00:00, ?it/s]"
      ]
     },
     "metadata": {},
     "output_type": "display_data"
    },
    {
     "name": "stdout",
     "output_type": "stream",
     "text": [
      "[Epoch   9] Val_loss: 0.08173 | Train_loss: 0.08067\n"
     ]
    },
    {
     "data": {
      "application/vnd.jupyter.widget-view+json": {
       "model_id": "",
       "version_major": 2,
       "version_minor": 0
      },
      "text/plain": [
       "Validating: 0it [00:00, ?it/s]"
      ]
     },
     "metadata": {},
     "output_type": "display_data"
    },
    {
     "name": "stdout",
     "output_type": "stream",
     "text": [
      "[Epoch  10] Val_loss: 0.08059 | Train_loss: 0.08058\n"
     ]
    },
    {
     "data": {
      "application/vnd.jupyter.widget-view+json": {
       "model_id": "",
       "version_major": 2,
       "version_minor": 0
      },
      "text/plain": [
       "Validating: 0it [00:00, ?it/s]"
      ]
     },
     "metadata": {},
     "output_type": "display_data"
    },
    {
     "name": "stdout",
     "output_type": "stream",
     "text": [
      "[Epoch  11] Val_loss: 0.07942 | Train_loss: 0.08058\n"
     ]
    },
    {
     "data": {
      "application/vnd.jupyter.widget-view+json": {
       "model_id": "",
       "version_major": 2,
       "version_minor": 0
      },
      "text/plain": [
       "Validating: 0it [00:00, ?it/s]"
      ]
     },
     "metadata": {},
     "output_type": "display_data"
    },
    {
     "name": "stdout",
     "output_type": "stream",
     "text": [
      "[Epoch  12] Val_loss: 0.07953 | Train_loss: 0.08051\n"
     ]
    },
    {
     "data": {
      "application/vnd.jupyter.widget-view+json": {
       "model_id": "",
       "version_major": 2,
       "version_minor": 0
      },
      "text/plain": [
       "Validating: 0it [00:00, ?it/s]"
      ]
     },
     "metadata": {},
     "output_type": "display_data"
    },
    {
     "name": "stdout",
     "output_type": "stream",
     "text": [
      "[Epoch  13] Val_loss: 0.07968 | Train_loss: 0.08044\n"
     ]
    },
    {
     "data": {
      "application/vnd.jupyter.widget-view+json": {
       "model_id": "",
       "version_major": 2,
       "version_minor": 0
      },
      "text/plain": [
       "Validating: 0it [00:00, ?it/s]"
      ]
     },
     "metadata": {},
     "output_type": "display_data"
    },
    {
     "name": "stdout",
     "output_type": "stream",
     "text": [
      "[Epoch  14] Val_loss: 0.07997 | Train_loss: 0.08052\n"
     ]
    },
    {
     "data": {
      "application/vnd.jupyter.widget-view+json": {
       "model_id": "",
       "version_major": 2,
       "version_minor": 0
      },
      "text/plain": [
       "Validating: 0it [00:00, ?it/s]"
      ]
     },
     "metadata": {},
     "output_type": "display_data"
    },
    {
     "name": "stdout",
     "output_type": "stream",
     "text": [
      "[Epoch  15] Val_loss: 0.07942 | Train_loss: 0.08043\n"
     ]
    },
    {
     "data": {
      "application/vnd.jupyter.widget-view+json": {
       "model_id": "",
       "version_major": 2,
       "version_minor": 0
      },
      "text/plain": [
       "Validating: 0it [00:00, ?it/s]"
      ]
     },
     "metadata": {},
     "output_type": "display_data"
    },
    {
     "name": "stdout",
     "output_type": "stream",
     "text": [
      "[Epoch  16] Val_loss: 0.07958 | Train_loss: 0.08046\n"
     ]
    },
    {
     "data": {
      "application/vnd.jupyter.widget-view+json": {
       "model_id": "",
       "version_major": 2,
       "version_minor": 0
      },
      "text/plain": [
       "Validating: 0it [00:00, ?it/s]"
      ]
     },
     "metadata": {},
     "output_type": "display_data"
    },
    {
     "name": "stdout",
     "output_type": "stream",
     "text": [
      "[Epoch  17] Val_loss: 0.07974 | Train_loss: 0.08040\n",
      "Epoch    18: reducing learning rate of group 0 to 2.0000e-04.\n"
     ]
    },
    {
     "data": {
      "application/vnd.jupyter.widget-view+json": {
       "model_id": "",
       "version_major": 2,
       "version_minor": 0
      },
      "text/plain": [
       "Validating: 0it [00:00, ?it/s]"
      ]
     },
     "metadata": {},
     "output_type": "display_data"
    },
    {
     "name": "stdout",
     "output_type": "stream",
     "text": [
      "[Epoch  18] Val_loss: 0.07910 | Train_loss: 0.07962\n"
     ]
    },
    {
     "data": {
      "application/vnd.jupyter.widget-view+json": {
       "model_id": "",
       "version_major": 2,
       "version_minor": 0
      },
      "text/plain": [
       "Validating: 0it [00:00, ?it/s]"
      ]
     },
     "metadata": {},
     "output_type": "display_data"
    },
    {
     "name": "stdout",
     "output_type": "stream",
     "text": [
      "[Epoch  19] Val_loss: 0.07891 | Train_loss: 0.07956\n"
     ]
    },
    {
     "data": {
      "application/vnd.jupyter.widget-view+json": {
       "model_id": "",
       "version_major": 2,
       "version_minor": 0
      },
      "text/plain": [
       "Validating: 0it [00:00, ?it/s]"
      ]
     },
     "metadata": {},
     "output_type": "display_data"
    },
    {
     "name": "stdout",
     "output_type": "stream",
     "text": [
      "[Epoch  20] Val_loss: 0.07874 | Train_loss: 0.07951\n"
     ]
    },
    {
     "data": {
      "application/vnd.jupyter.widget-view+json": {
       "model_id": "",
       "version_major": 2,
       "version_minor": 0
      },
      "text/plain": [
       "Validating: 0it [00:00, ?it/s]"
      ]
     },
     "metadata": {},
     "output_type": "display_data"
    },
    {
     "name": "stdout",
     "output_type": "stream",
     "text": [
      "[Epoch  21] Val_loss: 0.07890 | Train_loss: 0.07953\n"
     ]
    },
    {
     "data": {
      "application/vnd.jupyter.widget-view+json": {
       "model_id": "",
       "version_major": 2,
       "version_minor": 0
      },
      "text/plain": [
       "Validating: 0it [00:00, ?it/s]"
      ]
     },
     "metadata": {},
     "output_type": "display_data"
    },
    {
     "name": "stdout",
     "output_type": "stream",
     "text": [
      "[Epoch  22] Val_loss: 0.07929 | Train_loss: 0.07950\n"
     ]
    },
    {
     "data": {
      "application/vnd.jupyter.widget-view+json": {
       "model_id": "",
       "version_major": 2,
       "version_minor": 0
      },
      "text/plain": [
       "Validating: 0it [00:00, ?it/s]"
      ]
     },
     "metadata": {},
     "output_type": "display_data"
    },
    {
     "name": "stdout",
     "output_type": "stream",
     "text": [
      "[Epoch  23] Val_loss: 0.07893 | Train_loss: 0.07946\n"
     ]
    },
    {
     "data": {
      "application/vnd.jupyter.widget-view+json": {
       "model_id": "",
       "version_major": 2,
       "version_minor": 0
      },
      "text/plain": [
       "Validating: 0it [00:00, ?it/s]"
      ]
     },
     "metadata": {},
     "output_type": "display_data"
    },
    {
     "name": "stdout",
     "output_type": "stream",
     "text": [
      "[Epoch  24] Val_loss: 0.07901 | Train_loss: 0.07951\n"
     ]
    },
    {
     "data": {
      "application/vnd.jupyter.widget-view+json": {
       "model_id": "",
       "version_major": 2,
       "version_minor": 0
      },
      "text/plain": [
       "Validating: 0it [00:00, ?it/s]"
      ]
     },
     "metadata": {},
     "output_type": "display_data"
    },
    {
     "name": "stdout",
     "output_type": "stream",
     "text": [
      "[Epoch  25] Val_loss: 0.07878 | Train_loss: 0.07951\n"
     ]
    },
    {
     "data": {
      "application/vnd.jupyter.widget-view+json": {
       "model_id": "",
       "version_major": 2,
       "version_minor": 0
      },
      "text/plain": [
       "Validating: 0it [00:00, ?it/s]"
      ]
     },
     "metadata": {},
     "output_type": "display_data"
    },
    {
     "name": "stdout",
     "output_type": "stream",
     "text": [
      "[Epoch  26] Val_loss: 0.07865 | Train_loss: 0.07949\n"
     ]
    },
    {
     "data": {
      "application/vnd.jupyter.widget-view+json": {
       "model_id": "",
       "version_major": 2,
       "version_minor": 0
      },
      "text/plain": [
       "Validating: 0it [00:00, ?it/s]"
      ]
     },
     "metadata": {},
     "output_type": "display_data"
    },
    {
     "name": "stdout",
     "output_type": "stream",
     "text": [
      "[Epoch  27] Val_loss: 0.07869 | Train_loss: 0.07948\n"
     ]
    },
    {
     "data": {
      "application/vnd.jupyter.widget-view+json": {
       "model_id": "",
       "version_major": 2,
       "version_minor": 0
      },
      "text/plain": [
       "Validating: 0it [00:00, ?it/s]"
      ]
     },
     "metadata": {},
     "output_type": "display_data"
    },
    {
     "name": "stdout",
     "output_type": "stream",
     "text": [
      "[Epoch  28] Val_loss: 0.07878 | Train_loss: 0.07951\n"
     ]
    },
    {
     "data": {
      "application/vnd.jupyter.widget-view+json": {
       "model_id": "",
       "version_major": 2,
       "version_minor": 0
      },
      "text/plain": [
       "Validating: 0it [00:00, ?it/s]"
      ]
     },
     "metadata": {},
     "output_type": "display_data"
    },
    {
     "name": "stdout",
     "output_type": "stream",
     "text": [
      "[Epoch  29] Val_loss: 0.07869 | Train_loss: 0.07942\n"
     ]
    },
    {
     "data": {
      "application/vnd.jupyter.widget-view+json": {
       "model_id": "",
       "version_major": 2,
       "version_minor": 0
      },
      "text/plain": [
       "Validating: 0it [00:00, ?it/s]"
      ]
     },
     "metadata": {},
     "output_type": "display_data"
    },
    {
     "name": "stdout",
     "output_type": "stream",
     "text": [
      "[Epoch  30] Val_loss: 0.07866 | Train_loss: 0.07940\n"
     ]
    },
    {
     "data": {
      "application/vnd.jupyter.widget-view+json": {
       "model_id": "",
       "version_major": 2,
       "version_minor": 0
      },
      "text/plain": [
       "Validating: 0it [00:00, ?it/s]"
      ]
     },
     "metadata": {},
     "output_type": "display_data"
    },
    {
     "name": "stdout",
     "output_type": "stream",
     "text": [
      "[Epoch  31] Val_loss: 0.07878 | Train_loss: 0.07943\n"
     ]
    },
    {
     "data": {
      "application/vnd.jupyter.widget-view+json": {
       "model_id": "",
       "version_major": 2,
       "version_minor": 0
      },
      "text/plain": [
       "Validating: 0it [00:00, ?it/s]"
      ]
     },
     "metadata": {},
     "output_type": "display_data"
    },
    {
     "name": "stdout",
     "output_type": "stream",
     "text": [
      "[Epoch  32] Val_loss: 0.07875 | Train_loss: 0.07942\n",
      "Epoch    33: reducing learning rate of group 0 to 4.0000e-05.\n"
     ]
    },
    {
     "data": {
      "application/vnd.jupyter.widget-view+json": {
       "model_id": "",
       "version_major": 2,
       "version_minor": 0
      },
      "text/plain": [
       "Validating: 0it [00:00, ?it/s]"
      ]
     },
     "metadata": {},
     "output_type": "display_data"
    },
    {
     "name": "stdout",
     "output_type": "stream",
     "text": [
      "[Epoch  33] Val_loss: 0.07854 | Train_loss: 0.07915\n"
     ]
    },
    {
     "data": {
      "application/vnd.jupyter.widget-view+json": {
       "model_id": "",
       "version_major": 2,
       "version_minor": 0
      },
      "text/plain": [
       "Validating: 0it [00:00, ?it/s]"
      ]
     },
     "metadata": {},
     "output_type": "display_data"
    },
    {
     "name": "stdout",
     "output_type": "stream",
     "text": [
      "[Epoch  34] Val_loss: 0.07853 | Train_loss: 0.07920\n"
     ]
    },
    {
     "data": {
      "application/vnd.jupyter.widget-view+json": {
       "model_id": "",
       "version_major": 2,
       "version_minor": 0
      },
      "text/plain": [
       "Validating: 0it [00:00, ?it/s]"
      ]
     },
     "metadata": {},
     "output_type": "display_data"
    },
    {
     "name": "stdout",
     "output_type": "stream",
     "text": [
      "[Epoch  35] Val_loss: 0.07874 | Train_loss: 0.07922\n"
     ]
    },
    {
     "data": {
      "application/vnd.jupyter.widget-view+json": {
       "model_id": "",
       "version_major": 2,
       "version_minor": 0
      },
      "text/plain": [
       "Validating: 0it [00:00, ?it/s]"
      ]
     },
     "metadata": {},
     "output_type": "display_data"
    },
    {
     "name": "stdout",
     "output_type": "stream",
     "text": [
      "[Epoch  36] Val_loss: 0.07862 | Train_loss: 0.07916\n"
     ]
    },
    {
     "data": {
      "application/vnd.jupyter.widget-view+json": {
       "model_id": "",
       "version_major": 2,
       "version_minor": 0
      },
      "text/plain": [
       "Validating: 0it [00:00, ?it/s]"
      ]
     },
     "metadata": {},
     "output_type": "display_data"
    },
    {
     "name": "stdout",
     "output_type": "stream",
     "text": [
      "[Epoch  37] Val_loss: 0.07865 | Train_loss: 0.07920\n"
     ]
    },
    {
     "data": {
      "application/vnd.jupyter.widget-view+json": {
       "model_id": "",
       "version_major": 2,
       "version_minor": 0
      },
      "text/plain": [
       "Validating: 0it [00:00, ?it/s]"
      ]
     },
     "metadata": {},
     "output_type": "display_data"
    },
    {
     "name": "stdout",
     "output_type": "stream",
     "text": [
      "[Epoch  38] Val_loss: 0.07871 | Train_loss: 0.07916\n"
     ]
    },
    {
     "data": {
      "application/vnd.jupyter.widget-view+json": {
       "model_id": "",
       "version_major": 2,
       "version_minor": 0
      },
      "text/plain": [
       "Validating: 0it [00:00, ?it/s]"
      ]
     },
     "metadata": {},
     "output_type": "display_data"
    },
    {
     "name": "stdout",
     "output_type": "stream",
     "text": [
      "[Epoch  39] Val_loss: 0.07861 | Train_loss: 0.07921\n"
     ]
    },
    {
     "data": {
      "application/vnd.jupyter.widget-view+json": {
       "model_id": "",
       "version_major": 2,
       "version_minor": 0
      },
      "text/plain": [
       "Validating: 0it [00:00, ?it/s]"
      ]
     },
     "metadata": {},
     "output_type": "display_data"
    },
    {
     "name": "stdout",
     "output_type": "stream",
     "text": [
      "[Epoch  40] Val_loss: 0.07860 | Train_loss: 0.07918\n",
      "Epoch    41: reducing learning rate of group 0 to 8.0000e-06.\n"
     ]
    },
    {
     "data": {
      "application/vnd.jupyter.widget-view+json": {
       "model_id": "",
       "version_major": 2,
       "version_minor": 0
      },
      "text/plain": [
       "Validating: 0it [00:00, ?it/s]"
      ]
     },
     "metadata": {},
     "output_type": "display_data"
    },
    {
     "name": "stdout",
     "output_type": "stream",
     "text": [
      "[Epoch  41] Val_loss: 0.07844 | Train_loss: 0.07914\n"
     ]
    },
    {
     "data": {
      "application/vnd.jupyter.widget-view+json": {
       "model_id": "",
       "version_major": 2,
       "version_minor": 0
      },
      "text/plain": [
       "Validating: 0it [00:00, ?it/s]"
      ]
     },
     "metadata": {},
     "output_type": "display_data"
    },
    {
     "name": "stdout",
     "output_type": "stream",
     "text": [
      "[Epoch  42] Val_loss: 0.07846 | Train_loss: 0.07910\n"
     ]
    },
    {
     "data": {
      "application/vnd.jupyter.widget-view+json": {
       "model_id": "",
       "version_major": 2,
       "version_minor": 0
      },
      "text/plain": [
       "Validating: 0it [00:00, ?it/s]"
      ]
     },
     "metadata": {},
     "output_type": "display_data"
    },
    {
     "name": "stdout",
     "output_type": "stream",
     "text": [
      "[Epoch  43] Val_loss: 0.07867 | Train_loss: 0.07909\n"
     ]
    },
    {
     "data": {
      "application/vnd.jupyter.widget-view+json": {
       "model_id": "",
       "version_major": 2,
       "version_minor": 0
      },
      "text/plain": [
       "Validating: 0it [00:00, ?it/s]"
      ]
     },
     "metadata": {},
     "output_type": "display_data"
    },
    {
     "name": "stdout",
     "output_type": "stream",
     "text": [
      "[Epoch  44] Val_loss: 0.07859 | Train_loss: 0.07912\n"
     ]
    },
    {
     "data": {
      "application/vnd.jupyter.widget-view+json": {
       "model_id": "",
       "version_major": 2,
       "version_minor": 0
      },
      "text/plain": [
       "Validating: 0it [00:00, ?it/s]"
      ]
     },
     "metadata": {},
     "output_type": "display_data"
    },
    {
     "name": "stdout",
     "output_type": "stream",
     "text": [
      "[Epoch  45] Val_loss: 0.07872 | Train_loss: 0.07908\n"
     ]
    },
    {
     "data": {
      "application/vnd.jupyter.widget-view+json": {
       "model_id": "",
       "version_major": 2,
       "version_minor": 0
      },
      "text/plain": [
       "Validating: 0it [00:00, ?it/s]"
      ]
     },
     "metadata": {},
     "output_type": "display_data"
    },
    {
     "name": "stdout",
     "output_type": "stream",
     "text": [
      "[Epoch  46] Val_loss: 0.07859 | Train_loss: 0.07916\n"
     ]
    },
    {
     "data": {
      "application/vnd.jupyter.widget-view+json": {
       "model_id": "",
       "version_major": 2,
       "version_minor": 0
      },
      "text/plain": [
       "Validating: 0it [00:00, ?it/s]"
      ]
     },
     "metadata": {},
     "output_type": "display_data"
    },
    {
     "name": "stdout",
     "output_type": "stream",
     "text": [
      "[Epoch  47] Val_loss: 0.07841 | Train_loss: 0.07907\n"
     ]
    },
    {
     "data": {
      "application/vnd.jupyter.widget-view+json": {
       "model_id": "",
       "version_major": 2,
       "version_minor": 0
      },
      "text/plain": [
       "Validating: 0it [00:00, ?it/s]"
      ]
     },
     "metadata": {},
     "output_type": "display_data"
    },
    {
     "name": "stdout",
     "output_type": "stream",
     "text": [
      "[Epoch  48] Val_loss: 0.07850 | Train_loss: 0.07912\n"
     ]
    },
    {
     "data": {
      "application/vnd.jupyter.widget-view+json": {
       "model_id": "",
       "version_major": 2,
       "version_minor": 0
      },
      "text/plain": [
       "Validating: 0it [00:00, ?it/s]"
      ]
     },
     "metadata": {},
     "output_type": "display_data"
    },
    {
     "name": "stdout",
     "output_type": "stream",
     "text": [
      "[Epoch  49] Val_loss: 0.07847 | Train_loss: 0.07913\n"
     ]
    },
    {
     "data": {
      "application/vnd.jupyter.widget-view+json": {
       "model_id": "",
       "version_major": 2,
       "version_minor": 0
      },
      "text/plain": [
       "Validating: 0it [00:00, ?it/s]"
      ]
     },
     "metadata": {},
     "output_type": "display_data"
    },
    {
     "name": "stdout",
     "output_type": "stream",
     "text": [
      "[Epoch  50] Val_loss: 0.07845 | Train_loss: 0.07908\n"
     ]
    },
    {
     "data": {
      "application/vnd.jupyter.widget-view+json": {
       "model_id": "",
       "version_major": 2,
       "version_minor": 0
      },
      "text/plain": [
       "Validating: 0it [00:00, ?it/s]"
      ]
     },
     "metadata": {},
     "output_type": "display_data"
    },
    {
     "name": "stdout",
     "output_type": "stream",
     "text": [
      "[Epoch  51] Val_loss: 0.07848 | Train_loss: 0.07905\n"
     ]
    },
    {
     "data": {
      "application/vnd.jupyter.widget-view+json": {
       "model_id": "",
       "version_major": 2,
       "version_minor": 0
      },
      "text/plain": [
       "Validating: 0it [00:00, ?it/s]"
      ]
     },
     "metadata": {},
     "output_type": "display_data"
    },
    {
     "name": "stdout",
     "output_type": "stream",
     "text": [
      "[Epoch  52] Val_loss: 0.07862 | Train_loss: 0.07916\n"
     ]
    },
    {
     "data": {
      "application/vnd.jupyter.widget-view+json": {
       "model_id": "",
       "version_major": 2,
       "version_minor": 0
      },
      "text/plain": [
       "Validating: 0it [00:00, ?it/s]"
      ]
     },
     "metadata": {},
     "output_type": "display_data"
    },
    {
     "name": "stdout",
     "output_type": "stream",
     "text": [
      "[Epoch  53] Val_loss: 0.07867 | Train_loss: 0.07915\n",
      "Epoch    54: reducing learning rate of group 0 to 1.6000e-06.\n"
     ]
    },
    {
     "data": {
      "application/vnd.jupyter.widget-view+json": {
       "model_id": "",
       "version_major": 2,
       "version_minor": 0
      },
      "text/plain": [
       "Validating: 0it [00:00, ?it/s]"
      ]
     },
     "metadata": {},
     "output_type": "display_data"
    },
    {
     "name": "stdout",
     "output_type": "stream",
     "text": [
      "[Epoch  54] Val_loss: 0.07856 | Train_loss: 0.07908\n"
     ]
    },
    {
     "data": {
      "application/vnd.jupyter.widget-view+json": {
       "model_id": "",
       "version_major": 2,
       "version_minor": 0
      },
      "text/plain": [
       "Validating: 0it [00:00, ?it/s]"
      ]
     },
     "metadata": {},
     "output_type": "display_data"
    },
    {
     "name": "stdout",
     "output_type": "stream",
     "text": [
      "[Epoch  55] Val_loss: 0.07847 | Train_loss: 0.07908\n"
     ]
    },
    {
     "data": {
      "application/vnd.jupyter.widget-view+json": {
       "model_id": "",
       "version_major": 2,
       "version_minor": 0
      },
      "text/plain": [
       "Validating: 0it [00:00, ?it/s]"
      ]
     },
     "metadata": {},
     "output_type": "display_data"
    },
    {
     "name": "stdout",
     "output_type": "stream",
     "text": [
      "[Epoch  56] Val_loss: 0.07838 | Train_loss: 0.07911\n"
     ]
    },
    {
     "data": {
      "application/vnd.jupyter.widget-view+json": {
       "model_id": "",
       "version_major": 2,
       "version_minor": 0
      },
      "text/plain": [
       "Validating: 0it [00:00, ?it/s]"
      ]
     },
     "metadata": {},
     "output_type": "display_data"
    },
    {
     "name": "stdout",
     "output_type": "stream",
     "text": [
      "[Epoch  57] Val_loss: 0.07853 | Train_loss: 0.07909\n"
     ]
    },
    {
     "data": {
      "application/vnd.jupyter.widget-view+json": {
       "model_id": "",
       "version_major": 2,
       "version_minor": 0
      },
      "text/plain": [
       "Validating: 0it [00:00, ?it/s]"
      ]
     },
     "metadata": {},
     "output_type": "display_data"
    },
    {
     "name": "stdout",
     "output_type": "stream",
     "text": [
      "[Epoch  58] Val_loss: 0.07849 | Train_loss: 0.07907\n"
     ]
    },
    {
     "data": {
      "application/vnd.jupyter.widget-view+json": {
       "model_id": "",
       "version_major": 2,
       "version_minor": 0
      },
      "text/plain": [
       "Validating: 0it [00:00, ?it/s]"
      ]
     },
     "metadata": {},
     "output_type": "display_data"
    },
    {
     "name": "stdout",
     "output_type": "stream",
     "text": [
      "[Epoch  59] Val_loss: 0.07854 | Train_loss: 0.07913\n"
     ]
    },
    {
     "data": {
      "application/vnd.jupyter.widget-view+json": {
       "model_id": "",
       "version_major": 2,
       "version_minor": 0
      },
      "text/plain": [
       "Validating: 0it [00:00, ?it/s]"
      ]
     },
     "metadata": {},
     "output_type": "display_data"
    },
    {
     "name": "stdout",
     "output_type": "stream",
     "text": [
      "[Epoch  60] Val_loss: 0.07845 | Train_loss: 0.07907\n"
     ]
    },
    {
     "data": {
      "application/vnd.jupyter.widget-view+json": {
       "model_id": "",
       "version_major": 2,
       "version_minor": 0
      },
      "text/plain": [
       "Validating: 0it [00:00, ?it/s]"
      ]
     },
     "metadata": {},
     "output_type": "display_data"
    },
    {
     "name": "stdout",
     "output_type": "stream",
     "text": [
      "[Epoch  61] Val_loss: 0.07854 | Train_loss: 0.07915\n"
     ]
    },
    {
     "data": {
      "application/vnd.jupyter.widget-view+json": {
       "model_id": "",
       "version_major": 2,
       "version_minor": 0
      },
      "text/plain": [
       "Validating: 0it [00:00, ?it/s]"
      ]
     },
     "metadata": {},
     "output_type": "display_data"
    },
    {
     "name": "stdout",
     "output_type": "stream",
     "text": [
      "[Epoch  62] Val_loss: 0.07859 | Train_loss: 0.07908\n",
      "Epoch    63: reducing learning rate of group 0 to 3.2000e-07.\n"
     ]
    },
    {
     "data": {
      "application/vnd.jupyter.widget-view+json": {
       "model_id": "",
       "version_major": 2,
       "version_minor": 0
      },
      "text/plain": [
       "Validating: 0it [00:00, ?it/s]"
      ]
     },
     "metadata": {},
     "output_type": "display_data"
    },
    {
     "name": "stdout",
     "output_type": "stream",
     "text": [
      "[Epoch  63] Val_loss: 0.07846 | Train_loss: 0.07909\n"
     ]
    },
    {
     "data": {
      "application/vnd.jupyter.widget-view+json": {
       "model_id": "",
       "version_major": 2,
       "version_minor": 0
      },
      "text/plain": [
       "Validating: 0it [00:00, ?it/s]"
      ]
     },
     "metadata": {},
     "output_type": "display_data"
    },
    {
     "name": "stdout",
     "output_type": "stream",
     "text": [
      "[Epoch  64] Val_loss: 0.07842 | Train_loss: 0.07914\n"
     ]
    },
    {
     "data": {
      "application/vnd.jupyter.widget-view+json": {
       "model_id": "",
       "version_major": 2,
       "version_minor": 0
      },
      "text/plain": [
       "Validating: 0it [00:00, ?it/s]"
      ]
     },
     "metadata": {},
     "output_type": "display_data"
    },
    {
     "name": "stdout",
     "output_type": "stream",
     "text": [
      "[Epoch  65] Val_loss: 0.07830 | Train_loss: 0.07909\n"
     ]
    },
    {
     "data": {
      "application/vnd.jupyter.widget-view+json": {
       "model_id": "",
       "version_major": 2,
       "version_minor": 0
      },
      "text/plain": [
       "Validating: 0it [00:00, ?it/s]"
      ]
     },
     "metadata": {},
     "output_type": "display_data"
    },
    {
     "name": "stdout",
     "output_type": "stream",
     "text": [
      "[Epoch  66] Val_loss: 0.07850 | Train_loss: 0.07913\n"
     ]
    },
    {
     "data": {
      "application/vnd.jupyter.widget-view+json": {
       "model_id": "",
       "version_major": 2,
       "version_minor": 0
      },
      "text/plain": [
       "Validating: 0it [00:00, ?it/s]"
      ]
     },
     "metadata": {},
     "output_type": "display_data"
    },
    {
     "name": "stdout",
     "output_type": "stream",
     "text": [
      "[Epoch  67] Val_loss: 0.07844 | Train_loss: 0.07909\n"
     ]
    },
    {
     "data": {
      "application/vnd.jupyter.widget-view+json": {
       "model_id": "",
       "version_major": 2,
       "version_minor": 0
      },
      "text/plain": [
       "Validating: 0it [00:00, ?it/s]"
      ]
     },
     "metadata": {},
     "output_type": "display_data"
    },
    {
     "name": "stdout",
     "output_type": "stream",
     "text": [
      "[Epoch  68] Val_loss: 0.07854 | Train_loss: 0.07907\n"
     ]
    },
    {
     "data": {
      "application/vnd.jupyter.widget-view+json": {
       "model_id": "",
       "version_major": 2,
       "version_minor": 0
      },
      "text/plain": [
       "Validating: 0it [00:00, ?it/s]"
      ]
     },
     "metadata": {},
     "output_type": "display_data"
    },
    {
     "name": "stdout",
     "output_type": "stream",
     "text": [
      "[Epoch  69] Val_loss: 0.07841 | Train_loss: 0.07903\n"
     ]
    },
    {
     "data": {
      "application/vnd.jupyter.widget-view+json": {
       "model_id": "",
       "version_major": 2,
       "version_minor": 0
      },
      "text/plain": [
       "Validating: 0it [00:00, ?it/s]"
      ]
     },
     "metadata": {},
     "output_type": "display_data"
    },
    {
     "name": "stdout",
     "output_type": "stream",
     "text": [
      "[Epoch  70] Val_loss: 0.07843 | Train_loss: 0.07911\n"
     ]
    },
    {
     "data": {
      "application/vnd.jupyter.widget-view+json": {
       "model_id": "",
       "version_major": 2,
       "version_minor": 0
      },
      "text/plain": [
       "Validating: 0it [00:00, ?it/s]"
      ]
     },
     "metadata": {},
     "output_type": "display_data"
    },
    {
     "name": "stdout",
     "output_type": "stream",
     "text": [
      "[Epoch  71] Val_loss: 0.07845 | Train_loss: 0.07912\n",
      "Epoch    72: reducing learning rate of group 0 to 6.4000e-08.\n"
     ]
    },
    {
     "data": {
      "application/vnd.jupyter.widget-view+json": {
       "model_id": "",
       "version_major": 2,
       "version_minor": 0
      },
      "text/plain": [
       "Validating: 0it [00:00, ?it/s]"
      ]
     },
     "metadata": {},
     "output_type": "display_data"
    },
    {
     "name": "stdout",
     "output_type": "stream",
     "text": [
      "[Epoch  72] Val_loss: 0.07851 | Train_loss: 0.07912\n"
     ]
    },
    {
     "data": {
      "application/vnd.jupyter.widget-view+json": {
       "model_id": "",
       "version_major": 2,
       "version_minor": 0
      },
      "text/plain": [
       "Validating: 0it [00:00, ?it/s]"
      ]
     },
     "metadata": {},
     "output_type": "display_data"
    },
    {
     "name": "stdout",
     "output_type": "stream",
     "text": [
      "[Epoch  73] Val_loss: 0.07859 | Train_loss: 0.07910\n"
     ]
    },
    {
     "data": {
      "application/vnd.jupyter.widget-view+json": {
       "model_id": "",
       "version_major": 2,
       "version_minor": 0
      },
      "text/plain": [
       "Validating: 0it [00:00, ?it/s]"
      ]
     },
     "metadata": {},
     "output_type": "display_data"
    },
    {
     "name": "stdout",
     "output_type": "stream",
     "text": [
      "[Epoch  74] Val_loss: 0.07846 | Train_loss: 0.07910\n"
     ]
    },
    {
     "data": {
      "application/vnd.jupyter.widget-view+json": {
       "model_id": "",
       "version_major": 2,
       "version_minor": 0
      },
      "text/plain": [
       "Validating: 0it [00:00, ?it/s]"
      ]
     },
     "metadata": {},
     "output_type": "display_data"
    },
    {
     "name": "stdout",
     "output_type": "stream",
     "text": [
      "[Epoch  75] Val_loss: 0.07843 | Train_loss: 0.07911\n"
     ]
    },
    {
     "data": {
      "application/vnd.jupyter.widget-view+json": {
       "model_id": "",
       "version_major": 2,
       "version_minor": 0
      },
      "text/plain": [
       "Validating: 0it [00:00, ?it/s]"
      ]
     },
     "metadata": {},
     "output_type": "display_data"
    },
    {
     "name": "stdout",
     "output_type": "stream",
     "text": [
      "[Epoch  76] Val_loss: 0.07850 | Train_loss: 0.07908\n"
     ]
    },
    {
     "data": {
      "application/vnd.jupyter.widget-view+json": {
       "model_id": "",
       "version_major": 2,
       "version_minor": 0
      },
      "text/plain": [
       "Validating: 0it [00:00, ?it/s]"
      ]
     },
     "metadata": {},
     "output_type": "display_data"
    },
    {
     "name": "stdout",
     "output_type": "stream",
     "text": [
      "[Epoch  77] Val_loss: 0.07838 | Train_loss: 0.07909\n",
      "Epoch    78: reducing learning rate of group 0 to 1.2800e-08.\n"
     ]
    },
    {
     "data": {
      "application/vnd.jupyter.widget-view+json": {
       "model_id": "",
       "version_major": 2,
       "version_minor": 0
      },
      "text/plain": [
       "Validating: 0it [00:00, ?it/s]"
      ]
     },
     "metadata": {},
     "output_type": "display_data"
    },
    {
     "name": "stdout",
     "output_type": "stream",
     "text": [
      "[Epoch  78] Val_loss: 0.07860 | Train_loss: 0.07908\n"
     ]
    },
    {
     "data": {
      "application/vnd.jupyter.widget-view+json": {
       "model_id": "",
       "version_major": 2,
       "version_minor": 0
      },
      "text/plain": [
       "Validating: 0it [00:00, ?it/s]"
      ]
     },
     "metadata": {},
     "output_type": "display_data"
    },
    {
     "name": "stdout",
     "output_type": "stream",
     "text": [
      "[Epoch  79] Val_loss: 0.07855 | Train_loss: 0.07906\n"
     ]
    },
    {
     "data": {
      "application/vnd.jupyter.widget-view+json": {
       "model_id": "",
       "version_major": 2,
       "version_minor": 0
      },
      "text/plain": [
       "Validating: 0it [00:00, ?it/s]"
      ]
     },
     "metadata": {},
     "output_type": "display_data"
    },
    {
     "name": "stdout",
     "output_type": "stream",
     "text": [
      "[Epoch  80] Val_loss: 0.07849 | Train_loss: 0.07908\n"
     ]
    },
    {
     "data": {
      "application/vnd.jupyter.widget-view+json": {
       "model_id": "",
       "version_major": 2,
       "version_minor": 0
      },
      "text/plain": [
       "Validating: 0it [00:00, ?it/s]"
      ]
     },
     "metadata": {},
     "output_type": "display_data"
    },
    {
     "name": "stdout",
     "output_type": "stream",
     "text": [
      "[Epoch  81] Val_loss: 0.07862 | Train_loss: 0.07911\n"
     ]
    },
    {
     "data": {
      "application/vnd.jupyter.widget-view+json": {
       "model_id": "",
       "version_major": 2,
       "version_minor": 0
      },
      "text/plain": [
       "Validating: 0it [00:00, ?it/s]"
      ]
     },
     "metadata": {},
     "output_type": "display_data"
    },
    {
     "name": "stdout",
     "output_type": "stream",
     "text": [
      "[Epoch  82] Val_loss: 0.07849 | Train_loss: 0.07907\n"
     ]
    },
    {
     "data": {
      "application/vnd.jupyter.widget-view+json": {
       "model_id": "",
       "version_major": 2,
       "version_minor": 0
      },
      "text/plain": [
       "Validating: 0it [00:00, ?it/s]"
      ]
     },
     "metadata": {},
     "output_type": "display_data"
    },
    {
     "name": "stdout",
     "output_type": "stream",
     "text": [
      "[Epoch  83] Val_loss: 0.07855 | Train_loss: 0.07906\n",
      "Epoch    84: reducing learning rate of group 0 to 2.5600e-09.\n"
     ]
    },
    {
     "data": {
      "application/vnd.jupyter.widget-view+json": {
       "model_id": "",
       "version_major": 2,
       "version_minor": 0
      },
      "text/plain": [
       "Validating: 0it [00:00, ?it/s]"
      ]
     },
     "metadata": {},
     "output_type": "display_data"
    },
    {
     "name": "stdout",
     "output_type": "stream",
     "text": [
      "[Epoch  84] Val_loss: 0.07858 | Train_loss: 0.07906\n"
     ]
    },
    {
     "data": {
      "application/vnd.jupyter.widget-view+json": {
       "model_id": "",
       "version_major": 2,
       "version_minor": 0
      },
      "text/plain": [
       "Validating: 0it [00:00, ?it/s]"
      ]
     },
     "metadata": {},
     "output_type": "display_data"
    },
    {
     "name": "stdout",
     "output_type": "stream",
     "text": [
      "[Epoch  85] Val_loss: 0.07847 | Train_loss: 0.07908\n"
     ]
    },
    {
     "data": {
      "application/vnd.jupyter.widget-view+json": {
       "model_id": "",
       "version_major": 2,
       "version_minor": 0
      },
      "text/plain": [
       "Validating: 0it [00:00, ?it/s]"
      ]
     },
     "metadata": {},
     "output_type": "display_data"
    },
    {
     "name": "stdout",
     "output_type": "stream",
     "text": [
      "[Epoch  86] Val_loss: 0.07850 | Train_loss: 0.07908\n"
     ]
    },
    {
     "data": {
      "application/vnd.jupyter.widget-view+json": {
       "model_id": "",
       "version_major": 2,
       "version_minor": 0
      },
      "text/plain": [
       "Validating: 0it [00:00, ?it/s]"
      ]
     },
     "metadata": {},
     "output_type": "display_data"
    },
    {
     "name": "stdout",
     "output_type": "stream",
     "text": [
      "[Epoch  87] Val_loss: 0.07851 | Train_loss: 0.07912\n"
     ]
    },
    {
     "data": {
      "application/vnd.jupyter.widget-view+json": {
       "model_id": "",
       "version_major": 2,
       "version_minor": 0
      },
      "text/plain": [
       "Validating: 0it [00:00, ?it/s]"
      ]
     },
     "metadata": {},
     "output_type": "display_data"
    },
    {
     "name": "stdout",
     "output_type": "stream",
     "text": [
      "[Epoch  88] Val_loss: 0.07856 | Train_loss: 0.07909\n"
     ]
    },
    {
     "data": {
      "application/vnd.jupyter.widget-view+json": {
       "model_id": "",
       "version_major": 2,
       "version_minor": 0
      },
      "text/plain": [
       "Validating: 0it [00:00, ?it/s]"
      ]
     },
     "metadata": {},
     "output_type": "display_data"
    },
    {
     "name": "stdout",
     "output_type": "stream",
     "text": [
      "[Epoch  89] Val_loss: 0.07854 | Train_loss: 0.07911\n"
     ]
    },
    {
     "data": {
      "application/vnd.jupyter.widget-view+json": {
       "model_id": "",
       "version_major": 2,
       "version_minor": 0
      },
      "text/plain": [
       "Validating: 0it [00:00, ?it/s]"
      ]
     },
     "metadata": {},
     "output_type": "display_data"
    },
    {
     "name": "stdout",
     "output_type": "stream",
     "text": [
      "[Epoch  90] Val_loss: 0.07855 | Train_loss: 0.07906\n"
     ]
    },
    {
     "data": {
      "application/vnd.jupyter.widget-view+json": {
       "model_id": "",
       "version_major": 2,
       "version_minor": 0
      },
      "text/plain": [
       "Validating: 0it [00:00, ?it/s]"
      ]
     },
     "metadata": {},
     "output_type": "display_data"
    },
    {
     "name": "stdout",
     "output_type": "stream",
     "text": [
      "[Epoch  91] Val_loss: 0.07849 | Train_loss: 0.07909\n"
     ]
    },
    {
     "data": {
      "application/vnd.jupyter.widget-view+json": {
       "model_id": "",
       "version_major": 2,
       "version_minor": 0
      },
      "text/plain": [
       "Validating: 0it [00:00, ?it/s]"
      ]
     },
     "metadata": {},
     "output_type": "display_data"
    },
    {
     "name": "stdout",
     "output_type": "stream",
     "text": [
      "[Epoch  92] Val_loss: 0.07844 | Train_loss: 0.07912\n"
     ]
    },
    {
     "data": {
      "application/vnd.jupyter.widget-view+json": {
       "model_id": "",
       "version_major": 2,
       "version_minor": 0
      },
      "text/plain": [
       "Validating: 0it [00:00, ?it/s]"
      ]
     },
     "metadata": {},
     "output_type": "display_data"
    },
    {
     "name": "stdout",
     "output_type": "stream",
     "text": [
      "[Epoch  93] Val_loss: 0.07843 | Train_loss: 0.07907\n"
     ]
    },
    {
     "data": {
      "application/vnd.jupyter.widget-view+json": {
       "model_id": "",
       "version_major": 2,
       "version_minor": 0
      },
      "text/plain": [
       "Validating: 0it [00:00, ?it/s]"
      ]
     },
     "metadata": {},
     "output_type": "display_data"
    },
    {
     "name": "stdout",
     "output_type": "stream",
     "text": [
      "[Epoch  94] Val_loss: 0.07852 | Train_loss: 0.07907\n"
     ]
    },
    {
     "data": {
      "application/vnd.jupyter.widget-view+json": {
       "model_id": "",
       "version_major": 2,
       "version_minor": 0
      },
      "text/plain": [
       "Validating: 0it [00:00, ?it/s]"
      ]
     },
     "metadata": {},
     "output_type": "display_data"
    },
    {
     "name": "stdout",
     "output_type": "stream",
     "text": [
      "[Epoch  95] Val_loss: 0.07857 | Train_loss: 0.07914\n"
     ]
    },
    {
     "data": {
      "application/vnd.jupyter.widget-view+json": {
       "model_id": "",
       "version_major": 2,
       "version_minor": 0
      },
      "text/plain": [
       "Validating: 0it [00:00, ?it/s]"
      ]
     },
     "metadata": {},
     "output_type": "display_data"
    },
    {
     "name": "stdout",
     "output_type": "stream",
     "text": [
      "[Epoch  96] Val_loss: 0.07851 | Train_loss: 0.07910\n"
     ]
    },
    {
     "data": {
      "application/vnd.jupyter.widget-view+json": {
       "model_id": "",
       "version_major": 2,
       "version_minor": 0
      },
      "text/plain": [
       "Validating: 0it [00:00, ?it/s]"
      ]
     },
     "metadata": {},
     "output_type": "display_data"
    },
    {
     "name": "stdout",
     "output_type": "stream",
     "text": [
      "[Epoch  97] Val_loss: 0.07848 | Train_loss: 0.07908\n"
     ]
    },
    {
     "data": {
      "application/vnd.jupyter.widget-view+json": {
       "model_id": "",
       "version_major": 2,
       "version_minor": 0
      },
      "text/plain": [
       "Validating: 0it [00:00, ?it/s]"
      ]
     },
     "metadata": {},
     "output_type": "display_data"
    },
    {
     "name": "stdout",
     "output_type": "stream",
     "text": [
      "[Epoch  98] Val_loss: 0.07846 | Train_loss: 0.07907\n"
     ]
    },
    {
     "data": {
      "application/vnd.jupyter.widget-view+json": {
       "model_id": "",
       "version_major": 2,
       "version_minor": 0
      },
      "text/plain": [
       "Validating: 0it [00:00, ?it/s]"
      ]
     },
     "metadata": {},
     "output_type": "display_data"
    },
    {
     "name": "stdout",
     "output_type": "stream",
     "text": [
      "[Epoch  99] Val_loss: 0.07849 | Train_loss: 0.07907\n"
     ]
    }
   ],
   "source": [
    "MyModelCheckpoint = ModelCheckpoint(dirpath='runs/pl_encoder',\n",
    "                                        filename='{epoch}-{val_loss:.3f}',\n",
    "                                        monitor='val_loss',\n",
    "                                        mode='min',\n",
    "                                        save_top_k=3)\n",
    "\n",
    "## Monitor a metric and stop training when it stops improving.\n",
    "#MyEarlyStopping = EarlyStopping(monitor=\"val_loss\", mode=\"min\", patience=4, verbose=True)\n",
    "\n",
    "trainer = pl.Trainer(\n",
    "    max_epochs=100,\n",
    "    gpus=1,\n",
    "    callbacks=[\n",
    "        #MyEarlyStopping, \n",
    "        MyModelCheckpoint\n",
    "    ],\n",
    "    log_every_n_steps=5\n",
    ")\n",
    "\n",
    "model = AutoEncoderModule()\n",
    "#model.cuda()\n",
    "\n",
    "trainer.fit(model, train_dl, val_dl)"
   ]
  },
  {
   "cell_type": "code",
   "execution_count": 13,
   "id": "a99daa75",
   "metadata": {
    "scrolled": true
   },
   "outputs": [
    {
     "data": {
      "image/png": "[encoded data removed]",
      "text/plain": [
       "<Figure size 1440x360 with 16 Axes>"
      ]
     },
     "metadata": {
      "needs_background": "light"
     },
     "output_type": "display_data"
    }
   ],
   "source": [
    "sample_batch = next(iter(val_dl))\n",
    "visualize_images(model(sample_batch[0]).detach(), 2, 8)"
   ]
  },
  {
   "cell_type": "code",
   "execution_count": 22,
   "id": "c320b77f",
   "metadata": {},
   "outputs": [],
   "source": [
    "from array import array\n",
    "\n",
    "def save_model_weights(model, output_path):\n",
    "    \n",
    "    if not os.path.exists(output_path):\n",
    "        os.makedirs(output_path)\n",
    "        \n",
    "    for param_name, weight in model.named_parameters():\n",
    "        param_name = param_name.replace('.', '_') + '.bin'\n",
    "        param_path = os.path.join(output_path, param_name)\n",
    "        output_file = open(param_path, 'wb')\n",
    "        float_array = array('f', weight.detach().cpu().numpy().reshape(-1))\n",
    "        float_array.tofile(output_file)\n",
    "        output_file.close()"
   ]
  },
  {
   "cell_type": "code",
   "execution_count": 23,
   "id": "15064a95",
   "metadata": {},
   "outputs": [],
   "source": [
    "save_model_weights(model.autoencoder, 'autoencoder_weights')"
   ]
  },
  {
   "cell_type": "markdown",
   "id": "b2ce0410",
   "metadata": {},
   "source": [
    "# Дополнительная часть"
   ]
  },
  {
   "cell_type": "markdown",
   "id": "900bf463",
   "metadata": {},
   "source": [
    "Во всех экспериментах для каждого из разрешений (28, 64, 128, 256, 512) запускался бенчмарк с параметром 100. Расчитывалось total время (т.е суммарное время всех выделений памяти, расчетов, освобождений) и operation время (время операций слоев нейросети, без учета копирования, выделения и освобожения)\n",
    "Ниже визуализация полученый результатов"
   ]
  },
  {
   "cell_type": "markdown",
   "id": "1f0e4d47",
   "metadata": {},
   "source": [
    "### Слияние слоев"
   ]
  },
  {
   "cell_type": "code",
   "execution_count": 12,
   "id": "7b52e083",
   "metadata": {},
   "outputs": [],
   "source": [
    "sizes = [28, 64, 128, 256, 512]\n",
    "simple_model_total = [0.894155, 0.987708, 2.48738, 5.58785, 16.2363]\n",
    "simple_model_op = [0.294918, 0.379467, 0.733857, 2.19882, 8.63827]\n",
    "\n",
    "fusef_model_total = [0.880459, 0.966792, 2.55531, 5.58738, 15.9955]\n",
    "fused_model_op = [0.283229, 0.364435, 0.687092, 2.18177, 8.30633]"
   ]
  },
  {
   "cell_type": "code",
   "execution_count": null,
   "id": "41bce1aa",
   "metadata": {},
   "outputs": [],
   "source": []
  },
  {
   "cell_type": "markdown",
   "id": "04adc9f5",
   "metadata": {},
   "source": [
    "### Разделяемая память"
   ]
  },
  {
   "cell_type": "code",
   "execution_count": null,
   "id": "b8ffea87",
   "metadata": {},
   "outputs": [],
   "source": []
  },
  {
   "cell_type": "markdown",
   "id": "132bd904",
   "metadata": {},
   "source": [
    "### Оптимизации"
   ]
  },
  {
   "cell_type": "markdown",
   "id": "c1596354",
   "metadata": {},
   "source": [
    "Оказалось, если не выностить операции выделения и копирования памяти в начало (а потом просто последовательно выполнить кернелы), а расположить их перед вызовами функций в которых эта память используется, то для разрешения 512х512 получаем выигрыш в 0.83 ms!!! Мне кажется, так быть не должно, потому что операции выделения и копирования сихронизируются в основном потоке. По крайней мере написано, что они синхронные... Может какие-то оптимизации включились, магия..."
   ]
  },
  {
   "cell_type": "code",
   "execution_count": 16,
   "id": "cf5fb9f2",
   "metadata": {},
   "outputs": [],
   "source": [
    "# transform_256 = transforms.Compose([\n",
    "#     transforms.Resize(size=(256,256)),\n",
    "#     NoiseTransform(p=0.75),\n",
    "#     transforms.ToTensor()\n",
    "# ])\n",
    "\n",
    "# label_transform_256 = transforms.Compose([\n",
    "#     transforms.Resize(size=(256,256)),\n",
    "#     transforms.ToTensor()\n",
    "# ])\n",
    "# train_dataset_256 = MNISTDataset(train=True, transform=transform_256, label_transform=label_transform_256)\n",
    "# val_dataset_256 = MNISTDataset(train=False, transform=transform_256, label_transform=label_transform_256)\n",
    "\n",
    "# train_dl_256 = DataLoader(train_dataset_256, batch_size=32, shuffle=True, num_workers=4)\n",
    "# val_dl_256 = DataLoader(val_dataset_256, batch_size=32, shuffle=False, num_workers=4)\n",
    "# trainer = pl.Trainer(\n",
    "#     max_epochs=5,\n",
    "#     gpus=1,\n",
    "#     callbacks=[\n",
    "#         #MyEarlyStopping, \n",
    "#         MyModelCheckpoint\n",
    "#     ],\n",
    "#     log_every_n_steps=5\n",
    "# )\n",
    "# trainer.fit(model, train_dl_256, val_dl_256)\n",
    "# sample_batch = next(iter(val_dl_256))\n",
    "# visualize_images(model(sample_batch[0]).detach(), 2, 8)"
   ]
  },
  {
   "cell_type": "code",
   "execution_count": 20,
   "id": "6155446e",
   "metadata": {},
   "outputs": [
    {
     "data": {
      "image/png": "[encoded data removed]",
      "text/plain": [
       "<Figure size 432x288 with 1 Axes>"
      ]
     },
     "metadata": {
      "needs_background": "light"
     },
     "output_type": "display_data"
    },
    {
     "name": "stderr",
     "output_type": "stream",
     "text": [
      "Lossy conversion from float32 to uint8. Range [0, 1]. Convert image to uint8 prior to saving to suppress this warning.\n"
     ]
    },
    {
     "data": {
      "image/png": "[encoded data removed]",
      "text/plain": [
       "<Figure size 432x288 with 1 Axes>"
      ]
     },
     "metadata": {
      "needs_background": "light"
     },
     "output_type": "display_data"
    },
    {
     "name": "stderr",
     "output_type": "stream",
     "text": [
      "Lossy conversion from float32 to uint8. Range [0, 1]. Convert image to uint8 prior to saving to suppress this warning.\n"
     ]
    },
    {
     "data": {
      "image/png": "[encoded data removed]",
      "text/plain": [
       "<Figure size 432x288 with 1 Axes>"
      ]
     },
     "metadata": {
      "needs_background": "light"
     },
     "output_type": "display_data"
    },
    {
     "name": "stderr",
     "output_type": "stream",
     "text": [
      "Lossy conversion from float32 to uint8. Range [0, 1]. Convert image to uint8 prior to saving to suppress this warning.\n"
     ]
    },
    {
     "data": {
      "image/png": "[encoded data removed]",
      "text/plain": [
       "<Figure size 432x288 with 1 Axes>"
      ]
     },
     "metadata": {
      "needs_background": "light"
     },
     "output_type": "display_data"
    },
    {
     "name": "stderr",
     "output_type": "stream",
     "text": [
      "Lossy conversion from float32 to uint8. Range [0, 1]. Convert image to uint8 prior to saving to suppress this warning.\n"
     ]
    },
    {
     "data": {
      "image/png": "[encoded data removed]",
      "text/plain": [
       "<Figure size 432x288 with 1 Axes>"
      ]
     },
     "metadata": {
      "needs_background": "light"
     },
     "output_type": "display_data"
    },
    {
     "name": "stderr",
     "output_type": "stream",
     "text": [
      "Lossy conversion from float32 to uint8. Range [0, 1]. Convert image to uint8 prior to saving to suppress this warning.\n"
     ]
    }
   ],
   "source": [
    "from skimage.io import imsave\n",
    "for size in [28, 64, 128, 256, 512]:\n",
    "    transform = transforms.Compose([\n",
    "        transforms.Resize(size=(size, size)),\n",
    "        NoiseTransform(p=1),\n",
    "        transforms.ToTensor()\n",
    "    ])\n",
    "\n",
    "    label_transform = transforms.Compose([\n",
    "        transforms.Resize(size=(size, size)),\n",
    "        transforms.ToTensor()\n",
    "    ])\n",
    "    val_dataset = MNISTDataset(train=False, transform=transform, label_transform=label_transform)\n",
    "    val_dl = DataLoader(val_dataset, batch_size=32, shuffle=True, num_workers=4)\n",
    "    sample_batch = next(iter(val_dl))\n",
    "    plt.imshow(sample_batch[0][1][0])\n",
    "    plt.show()\n",
    "    imsave(f'samples/sample_{size}.png', sample_batch[0][1][0])"
   ]
  },
  {
   "cell_type": "code",
   "execution_count": 66,
   "id": "4061d9f2",
   "metadata": {},
   "outputs": [],
   "source": [
    "inp = np.array([[1, 3, 2, 1], [1, 3, 3, 1], [2, 1, 1, 3], [3, 2, 3, 3]])[None,None]\n",
    "t_inp = torch.from_numpy(inp)\n",
    "weight= np.array([[1, 2, 3], [0, 1, 0], [2, 1, 2]])[None,None]\n",
    "t_weight = torch.from_numpy(weight)\n",
    "t = nn.functional.conv_transpose2d(t_inp, weight=t_weight)"
   ]
  },
  {
   "cell_type": "code",
   "execution_count": 67,
   "id": "0ee55494",
   "metadata": {},
   "outputs": [
    {
     "data": {
      "text/plain": [
       "tensor([[[[ 1,  5, 11, 14,  8,  3],\n",
       "          [ 1,  6, 15, 18, 12,  3],\n",
       "          [ 4, 13, 21, 21, 15, 11],\n",
       "          [ 5, 17, 28, 27, 25, 11],\n",
       "          [ 4,  7,  9, 12,  8,  6],\n",
       "          [ 6,  7, 14, 13,  9,  6]]]])"
      ]
     },
     "execution_count": 67,
     "metadata": {},
     "output_type": "execute_result"
    }
   ],
   "source": [
    "t\n"
   ]
  },
  {
   "cell_type": "code",
   "execution_count": 20,
   "id": "e88c0bf3",
   "metadata": {},
   "outputs": [],
   "source": [
    "example = torch.rand(1, 1, 28, 28)\n",
    "traced_script_autoencoder = torch.jit.trace(model.autoencoder, example)"
   ]
  },
  {
   "cell_type": "code",
   "execution_count": 21,
   "id": "7ac583e4",
   "metadata": {},
   "outputs": [
    {
     "name": "stdout",
     "output_type": "stream",
     "text": [
      "enc_conv1.weight Parameter containing:\n",
      "tensor([[[[ 8.5480e-03, -3.7737e-02,  6.9876e-02],\n",
      "          [-4.7301e-02,  3.2224e-01,  3.4401e-01],\n",
      "          [ 5.0616e-02,  3.5948e-01,  3.4451e-01]]],\n",
      "\n",
      "\n",
      "        [[[-1.0212e-01,  2.7041e-01,  2.7438e-01],\n",
      "          [-1.5510e-01,  1.9824e-01,  2.1076e-01],\n",
      "          [-1.0552e-01, -7.3153e-02, -5.6413e-02]]],\n",
      "\n",
      "\n",
      "        [[[-2.0882e-01, -1.1504e-01,  4.7745e-03],\n",
      "          [-1.2151e-01,  1.7603e-01,  1.9287e-01],\n",
      "          [-1.0148e-02,  1.7603e-01,  1.9271e-01]]],\n",
      "\n",
      "\n",
      "        [[[ 1.4970e-02,  5.8539e-02, -1.4470e-01],\n",
      "          [ 3.2062e-01,  3.1777e-01,  6.0717e-02],\n",
      "          [ 2.9593e-01,  2.9593e-01,  8.0225e-04]]],\n",
      "\n",
      "\n",
      "        [[[ 3.6592e-02,  2.1286e-01,  1.6297e-01],\n",
      "          [ 3.6592e-02,  2.1021e-01,  1.8293e-01],\n",
      "          [-1.3984e-01,  7.0802e-02,  6.8785e-02]]],\n",
      "\n",
      "\n",
      "        [[[ 9.3132e-02,  6.1460e-02, -1.5210e-01],\n",
      "          [ 1.4036e-02, -1.7836e-02,  3.7784e-03],\n",
      "          [-1.0716e-01, -4.2434e-02,  1.4876e-01]]],\n",
      "\n",
      "\n",
      "        [[[ 2.7600e-01,  8.6749e-03,  4.3320e-09],\n",
      "          [-2.7600e-01, -8.6693e-03,  1.7234e-07],\n",
      "          [-9.0927e-06,  3.4807e-07,  8.7561e-06]]],\n",
      "\n",
      "\n",
      "        [[[-4.2816e-01, -6.0462e-04,  1.3605e-03],\n",
      "          [-1.3527e-03, -6.9538e-04,  2.6083e-03],\n",
      "          [ 1.9462e-03,  1.9706e-03,  2.5823e-03]]],\n",
      "\n",
      "\n",
      "        [[[ 2.2735e-08, -2.8865e-06, -2.4690e-07],\n",
      "          [-1.0850e-05, -4.4813e-01, -1.0626e-05],\n",
      "          [-3.2317e-08, -3.1141e-06, -4.8276e-08]]],\n",
      "\n",
      "\n",
      "        [[[-2.6246e-01, -2.6102e-04,  4.9235e-04],\n",
      "          [-5.0089e-04, -2.0878e-04,  9.2402e-04],\n",
      "          [ 7.1556e-04,  7.0276e-04,  9.2351e-04]]],\n",
      "\n",
      "\n",
      "        [[[-1.8044e-01,  6.8043e-02,  1.1676e-01],\n",
      "          [ 1.2217e-01, -8.5984e-03, -9.9546e-02],\n",
      "          [ 6.5210e-02, -3.6629e-02, -7.7705e-03]]],\n",
      "\n",
      "\n",
      "        [[[-2.7788e-42, -7.9229e-42, -5.4539e-42],\n",
      "          [ 2.7045e-43,  1.1294e-42,  8.6446e-42],\n",
      "          [ 8.8744e-42, -4.2431e-42, -2.2561e-42]]],\n",
      "\n",
      "\n",
      "        [[[ 3.7676e-02,  1.5451e-02,  3.6999e-02],\n",
      "          [ 2.5098e-02, -1.1464e-02,  2.7770e-02],\n",
      "          [ 2.6902e-02,  1.8451e-02,  3.2370e-02]]],\n",
      "\n",
      "\n",
      "        [[[ 8.7050e-02, -2.0608e-02, -3.6936e-02],\n",
      "          [ 1.8170e-01,  7.5203e-02, -2.8500e-01],\n",
      "          [ 6.5751e-02, -5.2919e-02, -2.2612e-04]]],\n",
      "\n",
      "\n",
      "        [[[ 1.0542e-01,  5.6141e-02, -7.1847e-02],\n",
      "          [ 2.3960e-01,  2.9257e-01,  1.4801e-01],\n",
      "          [ 2.0115e-01,  2.4372e-01,  1.5027e-01]]],\n",
      "\n",
      "\n",
      "        [[[-1.3314e-01,  4.5743e-02, -1.0346e-02],\n",
      "          [ 3.9614e-02,  1.9205e-01,  1.8177e-01],\n",
      "          [ 1.4220e-02,  2.1705e-01,  1.5996e-01]]],\n",
      "\n",
      "\n",
      "        [[[ 1.6039e-01, -2.9999e-01, -1.2320e-01],\n",
      "          [ 2.0142e-01, -3.7444e-02,  2.2458e-02],\n",
      "          [ 1.2506e-01,  1.1034e-02,  3.4505e-02]]],\n",
      "\n",
      "\n",
      "        [[[ 1.0648e-01,  2.0554e-01,  8.0952e-02],\n",
      "          [ 6.6543e-02,  1.4187e-01,  4.4990e-02],\n",
      "          [-1.0073e-01, -1.1119e-01, -5.9579e-02]]],\n",
      "\n",
      "\n",
      "        [[[-6.1237e-02, -1.3726e-01, -4.8672e-02],\n",
      "          [-4.1484e-03,  1.0014e-01,  8.6908e-02],\n",
      "          [ 9.4819e-03,  1.1448e-01,  1.0937e-01]]],\n",
      "\n",
      "\n",
      "        [[[-5.8438e-06, -4.8801e-01, -7.3424e-06],\n",
      "          [-1.7385e-06, -2.3390e-06, -7.3076e-08],\n",
      "          [ 7.5764e-06,  9.9092e-06,  7.3294e-06]]],\n",
      "\n",
      "\n",
      "        [[[ 8.2828e-02, -4.9955e-02, -3.2648e-02],\n",
      "          [ 5.4089e-02, -1.5246e-02, -3.9393e-02],\n",
      "          [-1.3692e-01,  6.5106e-02,  7.1810e-02]]],\n",
      "\n",
      "\n",
      "        [[[-1.6176e-01, -1.2597e-01, -8.2601e-02],\n",
      "          [ 2.9820e-01,  2.1445e-01, -8.6545e-02],\n",
      "          [ 3.3593e-01,  2.6050e-01, -1.2975e-01]]],\n",
      "\n",
      "\n",
      "        [[[-1.1519e-41, -3.6896e-42, -2.6344e-43],\n",
      "          [-1.0958e-42, -6.6099e-42,  5.6640e-42],\n",
      "          [-4.7364e-43,  3.7527e-42, -9.1561e-42]]],\n",
      "\n",
      "\n",
      "        [[[-7.6710e-02,  2.9184e-01,  2.5309e-01],\n",
      "          [ 8.6981e-02,  2.9261e-01,  2.4730e-01],\n",
      "          [-5.0273e-02,  5.6216e-02, -1.0757e-01]]],\n",
      "\n",
      "\n",
      "        [[[-4.6243e-42,  4.7602e-42,  1.0738e-41],\n",
      "          [-4.5963e-42,  8.3139e-42, -3.3351e-43],\n",
      "          [ 6.2918e-43, -1.5667e-42, -1.1603e-41]]],\n",
      "\n",
      "\n",
      "        [[[-5.3642e-06, -5.8982e-02, -6.5751e-06],\n",
      "          [-1.4253e-06, -2.0648e-06, -3.9651e-08],\n",
      "          [ 6.7018e-06,  8.2925e-06,  6.5054e-06]]],\n",
      "\n",
      "\n",
      "        [[[ 1.5681e-02,  1.0148e-01,  1.3080e-01],\n",
      "          [-1.0460e-01,  9.7704e-03,  9.4964e-02],\n",
      "          [-1.2820e-01, -8.7553e-02,  1.5407e-02]]],\n",
      "\n",
      "\n",
      "        [[[ 3.3060e-01,  3.5760e-01,  1.6020e-01],\n",
      "          [ 2.5228e-01,  2.1604e-01,  2.2975e-02],\n",
      "          [ 2.7273e-02, -1.4157e-01, -7.2042e-02]]],\n",
      "\n",
      "\n",
      "        [[[ 8.1718e-02,  9.8833e-03, -9.1343e-02],\n",
      "          [ 7.9122e-02,  9.0918e-03, -2.3235e-01],\n",
      "          [ 1.4561e-01,  1.1792e-01,  1.4629e-02]]],\n",
      "\n",
      "\n",
      "        [[[ 2.8615e-01,  2.8639e-01,  2.7618e-02],\n",
      "          [ 3.2412e-01,  2.8614e-01, -4.1930e-02],\n",
      "          [ 1.3794e-01,  8.2477e-02, -1.3496e-01]]],\n",
      "\n",
      "\n",
      "        [[[-1.5123e-02, -3.4095e-02,  4.5860e-02],\n",
      "          [-2.7681e-01,  4.9717e-03,  6.9150e-03],\n",
      "          [ 1.1892e-01,  1.2544e-01,  3.9213e-02]]],\n",
      "\n",
      "\n",
      "        [[[ 1.3884e-01,  1.2531e-01,  1.9853e-01],\n",
      "          [-1.4158e-01, -2.8147e-01,  5.3506e-02],\n",
      "          [-6.6511e-02, -9.7943e-02,  1.2555e-01]]]], requires_grad=True)\n",
      "enc_conv1.bias Parameter containing:\n",
      "tensor([-8.4085e-02, -1.9106e-01, -1.0617e-01, -2.0589e-01, -8.1765e-02,\n",
      "        -1.6380e-03, -5.9198e-06,  4.2669e-01,  4.4816e-01,  2.6194e-01,\n",
      "         2.9822e-01,  1.7193e-41,  2.3981e-01,  2.6208e-01,  2.4340e-01,\n",
      "        -1.7363e-01, -7.3470e-02, -1.4588e-01, -5.2588e-02,  4.8802e-01,\n",
      "         8.6547e-02, -2.1917e-01,  4.0301e-41, -2.1021e-01,  1.3125e-41,\n",
      "         5.8992e-02,  1.8303e-01, -1.2716e-01, -7.1669e-02, -1.3089e-01,\n",
      "        -1.5286e-02, -5.4227e-02], requires_grad=True)\n",
      "enc_conv2.weight Parameter containing:\n",
      "tensor([[[[-2.6136e-02,  1.0401e-01,  8.1620e-03],\n",
      "          [-1.2535e-02, -2.0692e-02,  5.6030e-03],\n",
      "          [ 2.4680e-02,  2.4868e-02,  1.8448e-02]],\n",
      "\n",
      "         [[-3.4685e-02,  9.6203e-02, -3.9797e-02],\n",
      "          [-3.6255e-02,  6.0075e-02,  1.0922e-02],\n",
      "          [ 1.1165e-02, -3.1587e-02,  1.4450e-02]],\n",
      "\n",
      "         [[-3.9057e-03,  8.6222e-02,  3.2486e-02],\n",
      "          [ 1.2122e-02,  7.3940e-03,  1.1197e-02],\n",
      "          [ 4.0266e-03,  2.4898e-02,  1.9878e-02]],\n",
      "\n",
      "         ...,\n",
      "\n",
      "         [[-5.5161e-02,  4.5918e-02,  3.7991e-02],\n",
      "          [ 2.0099e-02, -6.7468e-03,  1.0527e-02],\n",
      "          [ 3.1546e-02, -1.2313e-03,  2.1803e-02]],\n",
      "\n",
      "         [[ 9.9193e-03,  3.5468e-02, -1.5872e-02],\n",
      "          [ 3.9419e-03,  1.9561e-02,  1.3387e-02],\n",
      "          [-1.3680e-02,  2.2022e-02,  1.0203e-02]],\n",
      "\n",
      "         [[ 3.4363e-03,  8.6861e-03, -3.5457e-02],\n",
      "          [-4.6478e-02,  5.9798e-02,  3.5141e-02],\n",
      "          [ 9.4675e-03, -3.2825e-03, -1.3789e-02]]],\n",
      "\n",
      "\n",
      "        [[[ 9.7671e-02, -5.0493e-02,  7.1950e-03],\n",
      "          [ 1.0944e-01, -4.2363e-02,  1.4259e-02],\n",
      "          [-2.0881e-02, -3.0268e-03, -1.0196e-02]],\n",
      "\n",
      "         [[-3.6337e-02, -2.7011e-02, -2.0918e-02],\n",
      "          [ 1.1624e-01, -3.3686e-02, -9.2663e-03],\n",
      "          [ 6.4026e-02, -3.3081e-02,  6.8502e-03]],\n",
      "\n",
      "         [[ 8.9515e-03, -2.0053e-02, -1.3660e-02],\n",
      "          [ 6.9818e-02, -4.5757e-02, -1.2806e-02],\n",
      "          [ 4.0499e-03, -1.2489e-03, -1.2490e-02]],\n",
      "\n",
      "         ...,\n",
      "\n",
      "         [[ 6.4721e-03, -4.0285e-03,  3.1737e-02],\n",
      "          [ 1.0984e-01,  2.8001e-02, -2.5484e-02],\n",
      "          [ 2.4825e-02, -1.8614e-02, -2.9266e-03]],\n",
      "\n",
      "         [[ 1.1112e-02,  7.9801e-03, -9.5599e-03],\n",
      "          [-1.1407e-02, -4.5664e-02, -5.9234e-03],\n",
      "          [ 1.0109e-02,  6.2045e-03,  7.1723e-03]],\n",
      "\n",
      "         [[ 1.2054e-03, -1.3955e-02,  4.3072e-03],\n",
      "          [ 1.8280e-05, -3.0428e-02, -4.8772e-03],\n",
      "          [ 3.5661e-02,  2.5323e-02,  1.3727e-02]]],\n",
      "\n",
      "\n",
      "        [[[-4.5288e-02, -1.2571e-02, -4.3681e-02],\n",
      "          [-1.6927e-03,  5.0460e-03, -3.9680e-02],\n",
      "          [-3.4539e-02, -9.8031e-03, -4.0164e-02]],\n",
      "\n",
      "         [[-1.6284e-02, -1.1260e-02, -4.9924e-03],\n",
      "          [-4.9490e-02, -4.2736e-02, -5.0676e-02],\n",
      "          [-3.4011e-02, -2.0805e-02, -5.2154e-02]],\n",
      "\n",
      "         [[-7.0957e-04, -3.2295e-02, -4.1339e-02],\n",
      "          [-4.4370e-02, -1.0720e-02, -4.1642e-02],\n",
      "          [-3.7769e-02, -3.5895e-02, -3.1909e-02]],\n",
      "\n",
      "         ...,\n",
      "\n",
      "         [[ 5.2606e-02, -6.7344e-04,  3.8229e-04],\n",
      "          [ 1.5412e-02, -4.0553e-02, -2.7734e-02],\n",
      "          [-6.4923e-03, -4.2815e-02, -3.0526e-02]],\n",
      "\n",
      "         [[-5.5837e-03, -1.3912e-02, -6.8651e-03],\n",
      "          [-1.9581e-02, -2.4844e-03, -2.4824e-02],\n",
      "          [-2.6650e-02, -4.9131e-03, -1.1367e-02]],\n",
      "\n",
      "         [[-2.1002e-02,  1.6670e-03,  7.5413e-04],\n",
      "          [-2.9842e-02, -3.2688e-02, -4.0808e-02],\n",
      "          [-6.8704e-03, -1.2543e-02, -1.6655e-02]]],\n",
      "\n",
      "\n",
      "        ...,\n",
      "\n",
      "\n",
      "        [[[-5.1993e-02,  2.0231e-02, -9.1203e-03],\n",
      "          [ 7.9230e-02, -1.0385e-02,  6.9849e-03],\n",
      "          [-3.4973e-03, -9.9571e-03,  1.2815e-02]],\n",
      "\n",
      "         [[-4.8829e-04,  1.7159e-02, -1.2180e-02],\n",
      "          [ 9.7899e-03, -2.4178e-02,  4.0549e-03],\n",
      "          [ 7.6439e-02, -2.4481e-02, -5.8468e-04]],\n",
      "\n",
      "         [[-7.8585e-03,  3.3323e-02,  8.0541e-03],\n",
      "          [ 7.4790e-02,  1.4011e-02,  3.2696e-03],\n",
      "          [ 1.0180e-02, -3.1493e-03,  1.5572e-02]],\n",
      "\n",
      "         ...,\n",
      "\n",
      "         [[-6.4804e-02,  1.8125e-03,  1.6899e-03],\n",
      "          [ 7.1802e-02, -2.8228e-02,  8.8428e-03],\n",
      "          [ 4.4343e-02,  6.6720e-03, -3.3704e-03]],\n",
      "\n",
      "         [[ 6.1990e-03,  1.6757e-02,  1.5910e-03],\n",
      "          [ 1.5699e-02,  6.8522e-03,  1.6626e-02],\n",
      "          [ 1.1950e-02, -2.0956e-03,  1.1730e-02]],\n",
      "\n",
      "         [[ 3.0974e-02,  1.7735e-02, -7.9439e-03],\n",
      "          [-2.7944e-02, -1.1887e-02,  1.3060e-02],\n",
      "          [ 6.2314e-02,  1.4646e-02,  3.7067e-03]]],\n",
      "\n",
      "\n",
      "        [[[-3.1339e-02, -1.6335e-02, -1.7087e-02],\n",
      "          [ 7.7929e-02,  6.1307e-02, -1.1085e-02],\n",
      "          [-2.0125e-02, -3.3902e-03, -4.3395e-02]],\n",
      "\n",
      "         [[ 2.7586e-02,  9.2699e-03,  1.0065e-02],\n",
      "          [ 3.1243e-02,  3.4497e-02, -2.0608e-02],\n",
      "          [ 3.1534e-02,  3.7663e-02,  1.7603e-04]],\n",
      "\n",
      "         [[-7.8399e-03,  1.5127e-03,  2.7843e-03],\n",
      "          [ 3.2884e-02,  4.2260e-02,  6.5914e-03],\n",
      "          [ 2.7398e-02, -9.4177e-03, -1.4215e-02]],\n",
      "\n",
      "         ...,\n",
      "\n",
      "         [[ 4.9276e-02, -3.0293e-03, -3.3922e-02],\n",
      "          [-7.9612e-02,  8.2640e-02, -2.4726e-02],\n",
      "          [-3.5036e-02,  4.8814e-02,  7.8320e-03]],\n",
      "\n",
      "         [[-1.8042e-02,  1.7265e-02,  7.1729e-03],\n",
      "          [ 2.2717e-02,  1.6764e-02, -8.8233e-03],\n",
      "          [ 2.8849e-02, -2.0123e-02, -4.3851e-03]],\n",
      "\n",
      "         [[ 7.1952e-03,  2.9302e-02,  1.2652e-02],\n",
      "          [ 5.7658e-02, -3.4386e-02, -1.3733e-02],\n",
      "          [ 5.2620e-02,  4.8495e-02,  3.0985e-02]]],\n",
      "\n",
      "\n",
      "        [[[ 4.0762e-02,  3.1268e-02, -3.9806e-02],\n",
      "          [ 4.6731e-02,  4.3844e-02,  1.7379e-02],\n",
      "          [ 3.0199e-02,  5.4543e-02,  3.1093e-02]],\n",
      "\n",
      "         [[-1.1838e-02, -4.3793e-02, -2.2687e-02],\n",
      "          [ 7.5828e-02,  7.0372e-02, -5.9676e-03],\n",
      "          [-4.0925e-02, -4.1349e-02,  1.5756e-02]],\n",
      "\n",
      "         [[-2.3341e-02, -1.6447e-02,  1.1117e-03],\n",
      "          [ 3.8756e-02,  1.5080e-02, -4.9055e-03],\n",
      "          [ 1.4002e-02,  4.4913e-02,  2.6687e-02]],\n",
      "\n",
      "         ...,\n",
      "\n",
      "         [[-7.4770e-02, -2.4501e-02, -7.1826e-02],\n",
      "          [ 2.7349e-02,  7.7117e-02, -2.4895e-02],\n",
      "          [-5.0617e-03, -2.4478e-02, -2.4022e-02]],\n",
      "\n",
      "         [[ 1.4838e-02,  4.5945e-02,  3.1253e-02],\n",
      "          [ 8.7052e-03, -4.6701e-02, -2.4005e-02],\n",
      "          [ 1.4823e-02,  6.4945e-02,  4.7613e-02]],\n",
      "\n",
      "         [[ 2.0879e-02, -6.7202e-02, -7.8833e-03],\n",
      "          [ 2.4000e-02,  1.8264e-02,  2.4874e-02],\n",
      "          [-7.3668e-03,  3.5755e-02,  2.9349e-03]]]], requires_grad=True)\n",
      "enc_conv2.bias Parameter containing:\n",
      "tensor([-4.6068e-02, -2.8732e-02,  1.5036e-01,  4.7590e-02, -5.1119e-42,\n",
      "         1.5639e-02,  2.0801e-02,  3.7819e-02,  4.8863e-02, -1.9250e-02,\n",
      "        -1.4147e-02, -2.9484e-02,  1.9465e-02, -1.0845e-02,  3.0048e-02,\n",
      "         2.6776e-01,  4.9275e-02, -1.6355e-02,  4.1931e-03,  1.2551e-01,\n",
      "        -7.0445e-03,  2.2837e-02,  9.8085e-03, -2.0597e-02,  1.7116e-01,\n",
      "         2.9533e-03,  2.8743e-02,  1.2380e-01, -1.5448e-02, -2.5504e-02,\n",
      "        -3.1950e-02, -1.8609e-02], requires_grad=True)\n",
      "dec_tconv1.weight Parameter containing:\n",
      "tensor([[[[ 6.4768e-42,  1.1852e-41, -4.7854e-42],\n",
      "          [-1.0560e-41,  1.2159e-41, -1.7698e-42],\n",
      "          [ 2.8615e-42,  4.9830e-42, -1.0664e-41]],\n",
      "\n",
      "         [[ 3.1558e-02, -5.5980e-02, -8.8754e-02],\n",
      "          [ 2.0328e-02,  1.5242e-02,  1.1784e-02],\n",
      "          [-3.3005e-02, -4.9184e-03, -1.3323e-02]],\n",
      "\n",
      "         [[ 3.0875e-02, -2.9741e-02, -6.2653e-02],\n",
      "          [ 3.5957e-02, -3.1488e-02, -7.0769e-02],\n",
      "          [-1.0279e-02,  6.0011e-02, -2.2809e-02]],\n",
      "\n",
      "         ...,\n",
      "\n",
      "         [[-1.5599e-04,  4.7687e-03, -4.2707e-02],\n",
      "          [-8.4425e-03,  1.2998e-02,  4.3335e-02],\n",
      "          [-1.4757e-02,  8.5620e-03,  2.5512e-02]],\n",
      "\n",
      "         [[ 2.1566e-42, -2.3374e-42, -3.4724e-42],\n",
      "          [ 2.3770e-06,  7.2559e-42,  4.9523e-04],\n",
      "          [ 9.0594e-42,  5.9948e-42,  8.0533e-42]],\n",
      "\n",
      "         [[-2.3240e-02,  9.4945e-03,  1.5728e-02],\n",
      "          [-7.1984e-03,  3.0497e-03, -7.4645e-02],\n",
      "          [-1.8851e-03,  9.8877e-03,  6.0696e-03]]],\n",
      "\n",
      "\n",
      "        [[[ 8.9991e-42, -2.1146e-42,  1.1168e-42],\n",
      "          [ 1.3873e-42, -3.6868e-42, -1.4574e-42],\n",
      "          [ 9.2093e-42, -8.6488e-42, -3.2636e-42]],\n",
      "\n",
      "         [[ 4.1819e-03,  7.8414e-03,  2.2875e-02],\n",
      "          [-5.2426e-02, -8.5155e-02, -2.6434e-02],\n",
      "          [-1.4430e-02,  3.9132e-03,  6.5103e-02]],\n",
      "\n",
      "         [[-1.5370e-02,  4.7699e-02,  2.0644e-02],\n",
      "          [-3.6437e-02, -7.5393e-02, -1.0044e-02],\n",
      "          [-3.3749e-02, -8.6302e-02,  2.2886e-02]],\n",
      "\n",
      "         ...,\n",
      "\n",
      "         [[-1.5635e-03, -5.2406e-03,  5.3967e-03],\n",
      "          [ 9.1523e-03, -1.2714e-02, -3.1566e-02],\n",
      "          [ 7.4586e-03,  7.2945e-03, -5.1460e-03]],\n",
      "\n",
      "         [[ 1.8960e-42, -6.0214e-42,  3.1165e-42],\n",
      "          [ 4.0197e-04, -4.5598e-42,  7.8802e-04],\n",
      "          [ 9.2906e-43,  8.7231e-42,  5.8827e-42]],\n",
      "\n",
      "         [[-1.3865e-03, -4.6729e-03, -2.3174e-03],\n",
      "          [ 1.7898e-02, -6.8082e-03, -1.2250e-02],\n",
      "          [ 6.6077e-03, -5.9086e-02, -2.7808e-02]]],\n",
      "\n",
      "\n",
      "        [[[ 7.9930e-42,  1.0597e-41, -5.6837e-42],\n",
      "          [ 1.0835e-41,  1.0323e-41,  2.2211e-42],\n",
      "          [ 6.2778e-42,  7.2475e-42,  1.8245e-42]],\n",
      "\n",
      "         [[ 2.4089e-02,  1.0387e-02, -1.0370e-02],\n",
      "          [-1.6337e-02,  2.1584e-02,  6.6515e-02],\n",
      "          [-2.7596e-03,  2.0965e-02,  5.0310e-02]],\n",
      "\n",
      "         [[-1.4345e-03,  1.2950e-02, -7.8552e-03],\n",
      "          [ 2.0853e-02,  1.3175e-02,  4.9984e-02],\n",
      "          [-1.2054e-02,  3.6587e-02,  1.3546e-01]],\n",
      "\n",
      "         ...,\n",
      "\n",
      "         [[ 5.5931e-04, -1.1660e-02, -6.6864e-03],\n",
      "          [-9.0060e-03,  9.0440e-03,  1.3255e-02],\n",
      "          [ 8.5768e-04, -5.6234e-03,  1.7307e-02]],\n",
      "\n",
      "         [[-2.7353e-42,  1.1334e-41, -2.4439e-42],\n",
      "          [ 9.2701e-05,  1.1750e-41, -2.6311e-05],\n",
      "          [ 1.0892e-41,  1.1900e-41,  5.9093e-42]],\n",
      "\n",
      "         [[-7.8627e-03, -7.1907e-04,  2.9025e-03],\n",
      "          [ 8.8427e-03,  6.7474e-03,  8.0315e-04],\n",
      "          [-4.3826e-04, -7.3735e-03,  4.7085e-02]]],\n",
      "\n",
      "\n",
      "        ...,\n",
      "\n",
      "\n",
      "        [[[-6.6702e-42, -6.7360e-42, -2.1019e-43],\n",
      "          [-8.5129e-42,  1.1835e-41, -1.1698e-41],\n",
      "          [ 6.4880e-42, -1.2484e-41, -4.7224e-42]],\n",
      "\n",
      "         [[ 4.8676e-02,  5.8477e-02, -1.1676e-02],\n",
      "          [-5.8912e-02, -4.4007e-02, -3.1435e-04],\n",
      "          [-2.2814e-03,  2.4286e-03,  1.7911e-02]],\n",
      "\n",
      "         [[ 3.9247e-02,  5.0349e-02, -1.3183e-02],\n",
      "          [-2.3426e-02,  1.1813e-02,  1.8164e-02],\n",
      "          [-8.4582e-02, -2.2413e-02,  1.0930e-02]],\n",
      "\n",
      "         ...,\n",
      "\n",
      "         [[ 5.8985e-03,  1.6682e-02,  4.1248e-03],\n",
      "          [-2.4431e-03, -2.0936e-02,  1.2887e-02],\n",
      "          [ 2.8446e-02, -2.4841e-02,  7.0413e-04]],\n",
      "\n",
      "         [[-7.4871e-42,  7.0303e-42, -1.0639e-41],\n",
      "          [ 3.4272e-04, -9.6774e-42,  6.9757e-04],\n",
      "          [ 4.0736e-42,  9.5681e-42, -5.1904e-42]],\n",
      "\n",
      "         [[-2.6336e-02, -3.1316e-03,  7.4136e-04],\n",
      "          [ 6.4921e-03,  3.9575e-02,  6.2131e-03],\n",
      "          [ 4.1578e-03, -5.5906e-02,  4.0350e-03]]],\n",
      "\n",
      "\n",
      "        [[[-2.6891e-42, -1.0520e-41,  2.9511e-42],\n",
      "          [-1.1081e-41, -7.1074e-42, -1.2462e-41],\n",
      "          [-8.6656e-42, -8.8086e-42,  1.2558e-41]],\n",
      "\n",
      "         [[-1.3074e-02,  3.3740e-03,  4.3017e-02],\n",
      "          [ 1.2276e-02, -1.6512e-02, -4.1209e-02],\n",
      "          [ 4.3584e-03, -6.6197e-02,  5.5302e-03]],\n",
      "\n",
      "         [[-1.1045e-02,  7.5956e-03,  2.6357e-02],\n",
      "          [ 2.4805e-02,  2.2573e-02,  2.8780e-03],\n",
      "          [ 5.9525e-03, -7.6823e-02, -8.2723e-02]],\n",
      "\n",
      "         ...,\n",
      "\n",
      "         [[ 8.5473e-03, -3.9494e-03,  8.2808e-03],\n",
      "          [ 8.6828e-04, -9.8744e-03, -1.0798e-02],\n",
      "          [ 1.5149e-02,  7.4658e-03,  1.4974e-03]],\n",
      "\n",
      "         [[ 9.8665e-42,  3.8508e-42, -1.6507e-42],\n",
      "          [ 1.8432e-04,  3.9376e-43,  6.5508e-04],\n",
      "          [ 1.1981e-41, -4.7812e-42,  3.8578e-42]],\n",
      "\n",
      "         [[ 7.6003e-03, -3.4120e-03, -1.5403e-02],\n",
      "          [-1.4634e-02,  2.4369e-02,  1.6509e-02],\n",
      "          [ 1.1471e-02,  9.3384e-03, -4.1759e-02]]],\n",
      "\n",
      "\n",
      "        [[[-6.4642e-42, -6.6309e-42,  6.5553e-42],\n",
      "          [-1.1875e-41,  8.8646e-42, -7.0569e-42],\n",
      "          [-3.7233e-42, -4.0680e-42, -8.1233e-42]],\n",
      "\n",
      "         [[ 3.4738e-02, -3.4422e-02, -1.3907e-02],\n",
      "          [-1.5600e-02, -5.1280e-02, -9.5417e-03],\n",
      "          [ 4.1102e-04,  3.5521e-02,  4.5787e-02]],\n",
      "\n",
      "         [[ 1.3175e-02,  2.3535e-02,  1.6934e-02],\n",
      "          [ 2.0481e-02, -1.1833e-01, -6.6368e-02],\n",
      "          [-5.0093e-03,  3.6751e-02,  3.2347e-02]],\n",
      "\n",
      "         ...,\n",
      "\n",
      "         [[ 8.4883e-04,  2.0445e-02, -7.2193e-03],\n",
      "          [-4.7600e-03, -1.0570e-03, -4.2612e-03],\n",
      "          [-1.0285e-02, -2.4607e-02,  1.0755e-02]],\n",
      "\n",
      "         [[-9.1084e-44,  9.7853e-42, -7.7604e-42],\n",
      "          [ 3.5447e-04,  3.2860e-42,  7.1352e-04],\n",
      "          [-7.1466e-44, -6.8580e-42, -1.1362e-41]],\n",
      "\n",
      "         [[-1.7986e-02,  1.7940e-02, -3.1861e-03],\n",
      "          [ 1.8854e-02,  2.9053e-02, -2.6989e-02],\n",
      "          [ 4.8543e-03, -2.2643e-02, -3.0078e-02]]]], requires_grad=True)\n",
      "dec_tconv1.bias Parameter containing:\n",
      "tensor([-2.7409e-42,  1.4660e-01,  1.7837e-01,  1.9848e-02, -5.7986e-42,\n",
      "         2.2745e-01, -2.3879e-02,  2.1714e-01,  3.5131e-01,  1.5706e-01,\n",
      "        -9.0167e-03,  1.7925e-02,  9.3287e-02,  1.0830e-02,  2.5582e-02,\n",
      "        -2.4964e-04, -6.8238e-03, -7.2340e-03,  2.5154e-02,  1.7275e-02,\n",
      "         6.0135e-04,  2.6440e-02,  2.0144e-02, -3.2545e-04,  1.7892e-01,\n",
      "        -4.2403e-42,  8.7786e-03,  2.0932e-01,  6.9674e-02,  1.4842e-02,\n",
      "        -4.1408e-05,  5.8188e-02], requires_grad=True)\n",
      "dec_tconv2.weight Parameter containing:\n",
      "tensor([[[[ 1.0078e-41,  6.7388e-42,  1.0595e-41],\n",
      "          [-1.0839e-41,  3.5649e-42, -3.8914e-42],\n",
      "          [ 7.1326e-42,  1.0990e-41, -7.4829e-42]],\n",
      "\n",
      "         [[ 1.1889e-41, -9.7292e-42,  8.5479e-43],\n",
      "          [ 4.4309e-42,  9.6339e-42,  7.9075e-42],\n",
      "          [-2.3374e-42, -9.2233e-42, -1.7979e-42]],\n",
      "\n",
      "         [[ 1.5751e-42, -6.7108e-42, -8.0659e-42],\n",
      "          [ 4.8989e-42,  7.3526e-42,  9.5569e-42],\n",
      "          [-9.5106e-42,  3.8676e-43, -1.4461e-42]],\n",
      "\n",
      "         ...,\n",
      "\n",
      "         [[ 8.2971e-42,  7.2433e-42,  5.0867e-43],\n",
      "          [ 1.6661e-42,  4.4519e-42, -4.5234e-42],\n",
      "          [ 1.0483e-41, -5.0853e-42,  1.4447e-42]],\n",
      "\n",
      "         [[ 8.3321e-42,  8.1500e-42,  9.3607e-42],\n",
      "          [ 8.9739e-42,  3.1683e-42,  1.6872e-42],\n",
      "          [ 2.9736e-42,  1.2121e-42, -3.0310e-42]],\n",
      "\n",
      "         [[-3.6097e-42, -9.3509e-42, -5.5295e-42],\n",
      "          [ 1.2158e-41,  2.4228e-42, -1.1177e-41],\n",
      "          [-6.5581e-43,  3.8536e-43,  2.9231e-42]]],\n",
      "\n",
      "\n",
      "        [[[-2.1476e-02, -2.3727e-03, -1.1632e-02],\n",
      "          [-8.7202e-03,  3.2032e-02,  3.9090e-02],\n",
      "          [ 3.7314e-02,  7.6301e-02,  8.0718e-02]],\n",
      "\n",
      "         [[-2.9132e-02, -2.6334e-02, -1.5432e-02],\n",
      "          [-5.4932e-03,  2.7824e-02,  3.8844e-02],\n",
      "          [ 2.4076e-02,  7.2838e-02,  7.6138e-02]],\n",
      "\n",
      "         [[ 1.9671e-02, -1.1285e-02, -1.0309e-02],\n",
      "          [ 6.0681e-03,  2.1076e-02,  2.8923e-02],\n",
      "          [ 5.2205e-03,  3.1502e-02,  3.1380e-02]],\n",
      "\n",
      "         ...,\n",
      "\n",
      "         [[-1.9938e-02,  4.7752e-03, -1.0571e-02],\n",
      "          [ 9.9582e-03,  2.8602e-02,  3.7950e-02],\n",
      "          [ 3.3837e-02,  6.9482e-02,  7.3135e-02]],\n",
      "\n",
      "         [[-2.6767e-02, -2.2084e-02, -1.2308e-02],\n",
      "          [-3.2044e-03,  2.8667e-02,  3.8097e-02],\n",
      "          [ 2.7986e-02,  6.4720e-02,  6.7278e-02]],\n",
      "\n",
      "         [[-1.8940e-02, -3.0673e-02, -7.7562e-03],\n",
      "          [-1.0084e-02,  4.8402e-02,  4.9645e-02],\n",
      "          [ 2.6960e-02,  5.2270e-02,  2.0716e-02]]],\n",
      "\n",
      "\n",
      "        [[[ 9.2016e-03,  3.2641e-02,  3.8299e-02],\n",
      "          [ 3.5411e-02,  9.1575e-02,  8.5026e-02],\n",
      "          [ 2.7408e-02,  7.0655e-02,  5.9435e-02]],\n",
      "\n",
      "         [[ 1.1889e-03,  3.2654e-02,  3.3466e-02],\n",
      "          [ 3.4481e-02,  8.7107e-02,  7.9828e-02],\n",
      "          [ 3.0279e-02,  6.9517e-02,  5.6185e-02]],\n",
      "\n",
      "         [[-1.6118e-03,  2.0628e-02,  2.1180e-02],\n",
      "          [ 2.0752e-02,  4.1671e-02,  3.2919e-02],\n",
      "          [ 4.6464e-03,  1.3422e-02,  1.0771e-02]],\n",
      "\n",
      "         ...,\n",
      "\n",
      "         [[ 7.9734e-03,  2.9055e-02,  3.4733e-02],\n",
      "          [ 2.6854e-02,  8.2913e-02,  7.7245e-02],\n",
      "          [ 2.5202e-02,  6.3613e-02,  5.3613e-02]],\n",
      "\n",
      "         [[ 1.9725e-03,  3.0977e-02,  3.3132e-02],\n",
      "          [ 2.7184e-02,  7.8609e-02,  7.1146e-02],\n",
      "          [ 2.1060e-02,  5.5954e-02,  4.4878e-02]],\n",
      "\n",
      "         [[ 2.9715e-02,  5.4924e-02,  2.4278e-02],\n",
      "          [ 4.2011e-02,  6.0829e-02,  2.3780e-02],\n",
      "          [ 1.8269e-02,  5.9169e-03, -2.8773e-02]]],\n",
      "\n",
      "\n",
      "        ...,\n",
      "\n",
      "\n",
      "        [[[-4.1847e-03,  6.9321e-04, -1.2316e-02],\n",
      "          [ 4.8372e-03,  8.0540e-03,  2.1949e-02],\n",
      "          [ 2.1390e-02,  3.4587e-02,  1.1021e-02]],\n",
      "\n",
      "         [[-1.1770e-02, -1.8993e-02, -1.6878e-02],\n",
      "          [ 5.2464e-03,  7.6585e-03, -6.5641e-03],\n",
      "          [ 2.9188e-02,  1.4977e-02,  1.3590e-02]],\n",
      "\n",
      "         [[ 6.0995e-03, -1.8134e-03,  9.6366e-03],\n",
      "          [ 1.5843e-03,  1.6529e-02, -3.0970e-03],\n",
      "          [ 1.1525e-02,  1.5290e-02,  1.1131e-02]],\n",
      "\n",
      "         ...,\n",
      "\n",
      "         [[-3.6713e-03, -5.2691e-03, -1.1364e-02],\n",
      "          [ 3.8916e-03,  7.7774e-03,  3.5370e-02],\n",
      "          [ 1.9632e-02,  1.9228e-02,  9.7918e-03]],\n",
      "\n",
      "         [[-3.8662e-03, -5.5081e-03, -1.4295e-02],\n",
      "          [ 3.0845e-02,  1.4168e-02, -1.6311e-02],\n",
      "          [ 1.6638e-02,  1.9004e-02,  5.0887e-03]],\n",
      "\n",
      "         [[-5.0962e-03, -2.7278e-02, -2.6509e-02],\n",
      "          [ 1.7087e-02,  2.2672e-02,  2.4421e-02],\n",
      "          [ 7.4879e-03, -1.4659e-02, -1.7817e-02]]],\n",
      "\n",
      "\n",
      "        [[[-5.6215e-06,  6.6744e-05, -3.2617e-05],\n",
      "          [ 8.6218e-05,  1.2952e-04, -3.9348e-06],\n",
      "          [-1.0305e-04, -9.3290e-05, -4.8982e-05]],\n",
      "\n",
      "         [[-7.3573e-05,  5.9476e-05, -8.7046e-05],\n",
      "          [-8.1703e-06,  5.5632e-05,  1.9447e-04],\n",
      "          [-1.0825e-04,  6.3894e-05,  6.5783e-05]],\n",
      "\n",
      "         [[ 5.7064e-05,  8.7026e-05, -1.5870e-04],\n",
      "          [ 6.2281e-05,  2.0599e-05, -1.1653e-04],\n",
      "          [-1.4483e-05, -5.2348e-05,  5.0619e-05]],\n",
      "\n",
      "         ...,\n",
      "\n",
      "         [[-4.5000e-06, -9.3650e-05, -1.6590e-05],\n",
      "          [ 2.7796e-04,  1.3178e-04,  1.4501e-04],\n",
      "          [-9.7757e-05,  1.2695e-04, -5.1186e-05]],\n",
      "\n",
      "         [[-6.0873e-05, -6.6768e-05, -6.4190e-05],\n",
      "          [-2.1354e-04, -6.8896e-05,  1.3523e-04],\n",
      "          [-1.0321e-04, -1.4783e-04, -2.8738e-05]],\n",
      "\n",
      "         [[ 3.7767e-05,  4.8556e-05, -1.8591e-04],\n",
      "          [ 1.8466e-04, -3.3081e-04, -1.7705e-04],\n",
      "          [ 7.2101e-05,  1.1639e-04,  5.9314e-05]]],\n",
      "\n",
      "\n",
      "        [[[ 2.5951e-02,  2.6959e-02,  1.0101e-02],\n",
      "          [ 3.2801e-02,  3.5889e-02,  2.1071e-02],\n",
      "          [ 8.8546e-03,  2.5402e-02, -1.6204e-02]],\n",
      "\n",
      "         [[ 2.4055e-02,  3.0707e-02,  1.3362e-02],\n",
      "          [ 3.1731e-02,  3.3541e-02,  4.0050e-03],\n",
      "          [ 1.3371e-02,  3.1976e-02, -2.3339e-02]],\n",
      "\n",
      "         [[ 9.7118e-03,  1.0410e-02,  4.2806e-04],\n",
      "          [ 1.0786e-02,  7.3750e-03, -4.5916e-03],\n",
      "          [-1.9027e-04, -5.9104e-03, -9.6934e-03]],\n",
      "\n",
      "         ...,\n",
      "\n",
      "         [[ 2.3472e-02,  2.2452e-02,  8.7814e-03],\n",
      "          [ 2.6381e-02,  3.2305e-02, -1.7269e-03],\n",
      "          [ 7.9783e-03,  1.4932e-02, -1.5053e-02]],\n",
      "\n",
      "         [[ 2.1529e-02,  2.7410e-02,  7.4707e-03],\n",
      "          [ 2.0131e-02,  2.4141e-02,  1.0169e-02],\n",
      "          [ 4.5863e-03,  1.6571e-03, -1.6156e-02]],\n",
      "\n",
      "         [[ 1.5059e-02,  9.7819e-03, -1.0015e-02],\n",
      "          [ 6.8597e-03, -1.3248e-03, -2.9930e-02],\n",
      "          [-9.6823e-03, -1.9952e-02, -3.7215e-02]]]], requires_grad=True)\n",
      "dec_tconv2.bias Parameter containing:\n",
      "tensor([ 6.8790e-02,  6.7809e-02,  3.1993e-02,  5.4686e-02,  5.7206e-02,\n",
      "         1.0318e-01,  1.1904e-41,  6.4770e-02,  6.8747e-02,  7.6609e-42,\n",
      "         7.0335e-02, -9.3186e-42,  4.6327e-42,  5.7285e-02,  7.0569e-02,\n",
      "         5.1222e-02,  7.0604e-02,  7.4887e-02,  3.7661e-01,  1.6436e-03,\n",
      "         6.3266e-02,  1.0153e-01,  1.6430e-01,  1.2978e-01,  2.4963e-02,\n",
      "         3.8690e-01,  2.5323e-02,  9.4610e-02,  1.3299e-01,  6.8609e-02,\n",
      "         6.1652e-02,  6.3799e-02], requires_grad=True)\n",
      "dec_conv1.weight Parameter containing:\n",
      "tensor([[[[-1.6797e-01, -2.5784e-01, -1.4091e-01],\n",
      "          [-2.5037e-01, -3.1166e-01, -1.7419e-01],\n",
      "          [-9.5156e-02, -1.2991e-01, -4.1570e-02]],\n",
      "\n",
      "         [[-1.4378e-01, -2.2776e-01, -1.3477e-01],\n",
      "          [-2.4589e-01, -3.0590e-01, -1.5936e-01],\n",
      "          [-1.1208e-01, -1.2279e-01, -2.2274e-02]],\n",
      "\n",
      "         [[-8.5365e-02, -1.2580e-01, -5.9848e-02],\n",
      "          [-1.1168e-01, -1.3659e-01, -4.7419e-02],\n",
      "          [ 2.7854e-02,  5.3040e-02,  5.2248e-02]],\n",
      "\n",
      "         [[-1.2706e-01, -1.8372e-01, -1.0923e-01],\n",
      "          [-1.8967e-01, -2.2942e-01, -1.2408e-01],\n",
      "          [-7.8927e-02, -7.8158e-02, -1.4830e-03]],\n",
      "\n",
      "         [[ 1.5765e-01,  1.1777e-01,  1.0435e-02],\n",
      "          [ 1.1224e-01, -2.4274e-02, -9.1751e-02],\n",
      "          [-7.7543e-03, -1.2423e-01, -9.6579e-02]],\n",
      "\n",
      "         [[-2.1275e-01, -3.2848e-01, -1.9118e-01],\n",
      "          [-3.4303e-01, -4.1762e-01, -2.2150e-01],\n",
      "          [-1.3866e-01, -1.5135e-01, -1.7883e-02]],\n",
      "\n",
      "         [[ 8.6082e-42,  9.5050e-42,  8.1500e-42],\n",
      "          [-5.3389e-43,  8.3882e-42,  6.2610e-42],\n",
      "          [ 2.4719e-42,  2.6653e-42,  8.5872e-42]],\n",
      "\n",
      "         [[-1.3325e-01, -2.0642e-01, -1.2024e-01],\n",
      "          [-2.1576e-01, -2.6313e-01, -1.3899e-01],\n",
      "          [-8.6232e-02, -9.6141e-02, -9.2864e-03]],\n",
      "\n",
      "         [[-1.7864e-01, -2.3883e-01, -1.4666e-01],\n",
      "          [-2.6454e-01, -3.3366e-01, -2.0829e-01],\n",
      "          [-1.3315e-01, -1.7518e-01, -9.4495e-02]],\n",
      "\n",
      "         [[ 8.6180e-42, -4.2642e-42,  1.2030e-41],\n",
      "          [-1.2121e-41,  8.0224e-42, -2.2477e-42],\n",
      "          [-3.3323e-42,  8.7791e-42, -2.5812e-42]],\n",
      "\n",
      "         [[-2.0206e-01, -2.7495e-01, -1.3451e-01],\n",
      "          [-3.0259e-01, -3.2880e-01, -1.7313e-01],\n",
      "          [-9.4098e-02, -1.1185e-01, -1.4325e-02]],\n",
      "\n",
      "         [[ 1.1702e-41, -8.8618e-42,  8.5493e-42],\n",
      "          [-1.1704e-41, -3.7387e-42, -7.5936e-42],\n",
      "          [-1.2326e-41,  3.5971e-42, -1.1596e-41]],\n",
      "\n",
      "         [[ 5.4805e-42, -1.3579e-42,  1.2591e-41],\n",
      "          [ 4.0217e-42,  9.8441e-42,  4.7756e-42],\n",
      "          [ 5.0839e-42,  8.2270e-42, -2.1272e-42]],\n",
      "\n",
      "         [[-1.1814e-01, -1.9005e-01, -1.1200e-01],\n",
      "          [-1.9772e-01, -2.4434e-01, -1.4501e-01],\n",
      "          [-8.5268e-02, -1.0238e-01, -1.0742e-02]],\n",
      "\n",
      "         [[-1.9895e-01, -2.6673e-01, -1.4651e-01],\n",
      "          [-2.8456e-01, -3.2568e-01, -1.7204e-01],\n",
      "          [-1.1031e-01, -1.1527e-01, -1.0589e-02]],\n",
      "\n",
      "         [[-1.2715e-01, -2.3538e-01, -1.0241e-01],\n",
      "          [-1.9694e-01, -2.7024e-01, -6.5343e-02],\n",
      "          [-6.0268e-02, -5.8586e-02,  1.6431e-02]],\n",
      "\n",
      "         [[-1.5021e-01, -2.6496e-01, -1.6761e-01],\n",
      "          [-2.4682e-01, -3.1045e-01, -1.8366e-01],\n",
      "          [-1.0826e-01, -1.2160e-01, -2.6718e-02]],\n",
      "\n",
      "         [[-1.5347e-01, -2.3777e-01, -1.3847e-01],\n",
      "          [-2.4852e-01, -3.0308e-01, -1.6008e-01],\n",
      "          [-9.9181e-02, -1.1061e-01, -1.0645e-02]],\n",
      "\n",
      "         [[ 2.2416e-01,  3.8250e-01,  2.5914e-01],\n",
      "          [ 3.9626e-01,  4.9530e-01,  2.8497e-01],\n",
      "          [ 2.3706e-01,  2.5397e-01,  7.9774e-02]],\n",
      "\n",
      "         [[ 7.8038e-03,  3.5074e-03, -9.1227e-04],\n",
      "          [ 4.2545e-04, -4.7624e-03,  3.2978e-03],\n",
      "          [ 4.5377e-03,  2.2380e-03, -5.7468e-04]],\n",
      "\n",
      "         [[-1.6400e-01, -2.2851e-01, -1.4134e-01],\n",
      "          [-2.5389e-01, -3.0948e-01, -1.4025e-01],\n",
      "          [-7.0882e-02, -8.3255e-02, -3.2009e-03]],\n",
      "\n",
      "         [[ 9.9711e-02,  1.2561e-01,  4.5393e-02],\n",
      "          [ 1.5114e-01,  1.9720e-01,  8.0356e-02],\n",
      "          [ 4.4369e-02,  8.1429e-02,  3.3022e-02]],\n",
      "\n",
      "         [[ 1.0629e-01,  1.9107e-01,  1.1522e-01],\n",
      "          [ 1.7705e-01,  2.6432e-01,  1.4606e-01],\n",
      "          [ 8.9999e-02,  1.0805e-01,  5.6495e-02]],\n",
      "\n",
      "         [[ 1.1212e-01,  2.2535e-01,  1.1675e-01],\n",
      "          [ 1.7776e-01,  2.5040e-01,  7.7362e-02],\n",
      "          [ 8.3271e-02,  6.0955e-02, -3.6831e-02]],\n",
      "\n",
      "         [[-3.3704e-03,  5.9201e-02,  6.9061e-02],\n",
      "          [-1.6761e-01, -1.3537e-02,  7.1720e-02],\n",
      "          [-1.2153e-01, -4.7882e-02,  1.9656e-02]],\n",
      "\n",
      "         [[ 2.3147e-01,  3.9410e-01,  2.6676e-01],\n",
      "          [ 4.0797e-01,  5.0923e-01,  2.9255e-01],\n",
      "          [ 2.4357e-01,  2.6037e-01,  8.1155e-02]],\n",
      "\n",
      "         [[-6.6173e-02, -9.3139e-02, -5.2721e-02],\n",
      "          [-9.4200e-02, -1.0835e-01, -5.8223e-02],\n",
      "          [-3.6068e-02, -4.0563e-02, -3.8335e-03]],\n",
      "\n",
      "         [[-1.8831e-01, -2.9224e-01, -1.6900e-01],\n",
      "          [-3.1080e-01, -3.8356e-01, -2.0093e-01],\n",
      "          [-1.3252e-01, -1.5015e-01, -3.0230e-02]],\n",
      "\n",
      "         [[ 1.3885e-01,  1.8854e-01,  1.0530e-01],\n",
      "          [ 1.7718e-01,  2.1668e-01,  9.8370e-02],\n",
      "          [ 7.0745e-02,  8.4541e-02,  8.4503e-03]],\n",
      "\n",
      "         [[-1.4939e-01, -2.2644e-01, -1.3187e-01],\n",
      "          [-2.3622e-01, -2.8052e-01, -1.5720e-01],\n",
      "          [-9.0250e-02, -1.0598e-01, -4.0024e-02]],\n",
      "\n",
      "         [[-1.3689e-01, -2.1927e-01, -1.2972e-01],\n",
      "          [-2.1156e-01, -2.6035e-01, -1.3754e-01],\n",
      "          [-8.1234e-02, -8.9985e-02, -4.3329e-05]],\n",
      "\n",
      "         [[-2.8082e-01, -2.5925e-01, -2.9977e-02],\n",
      "          [-1.8945e-01, -5.6706e-02,  1.3173e-01],\n",
      "          [ 5.8888e-02,  1.5002e-01,  1.1931e-01]]]], requires_grad=True)\n",
      "dec_conv1.bias Parameter containing:\n",
      "tensor([-0.0837], requires_grad=True)\n"
     ]
    }
   ],
   "source": [
    "for name, param in model.autoencoder.named_parameters():\n",
    "    print(name, param)"
   ]
  },
  {
   "cell_type": "code",
   "execution_count": 77,
   "id": "07bf9c44",
   "metadata": {},
   "outputs": [
    {
     "name": "stdout",
     "output_type": "stream",
     "text": [
      "enc_conv1.weight (32, 1, 3, 3)\n",
      "enc_conv1.bias (32,)\n",
      "enc_conv2.weight (32, 32, 3, 3)\n",
      "enc_conv2.bias (32,)\n",
      "dec_tconv1.weight (32, 32, 3, 3)\n",
      "dec_tconv1.bias (32,)\n",
      "dec_tconv2.weight (32, 32, 3, 3)\n",
      "dec_tconv2.bias (32,)\n",
      "dec_conv1.weight (1, 32, 3, 3)\n",
      "dec_conv1.bias (1,)\n"
     ]
    }
   ],
   "source": [
    "for name, param in traced_script_autoencoder.named_parameters():\n",
    "    print(name, param.detach().numpy().shape)"
   ]
  },
  {
   "cell_type": "code",
   "execution_count": 76,
   "id": "c47231ce",
   "metadata": {},
   "outputs": [
    {
     "data": {
      "text/plain": [
       "[-0.08408499509096146,\n",
       " -0.1910579651594162,\n",
       " -0.10617329925298691,\n",
       " -0.20589253306388855,\n",
       " -0.08176480233669281,\n",
       " -0.0016379799926653504,\n",
       " -5.919814157095971e-06,\n",
       " 0.42668864130973816,\n",
       " 0.4481559097766876,\n",
       " 0.2619360685348511,\n",
       " 0.29821500182151794,\n",
       " 1.719253085880118e-41,\n",
       " 0.2398124784231186,\n",
       " 0.2620781660079956,\n",
       " 0.2433968186378479,\n",
       " -0.1736266016960144,\n",
       " -0.07346972078084946,\n",
       " -0.14587746560573578,\n",
       " -0.0525880828499794,\n",
       " 0.4880215525627136,\n",
       " 0.08654680103063583,\n",
       " -0.21916520595550537,\n",
       " 4.030134383398174e-41,\n",
       " -0.21020878851413727,\n",
       " 1.3124561416866237e-41,\n",
       " 0.0589916966855526,\n",
       " 0.18303436040878296,\n",
       " -0.12715663015842438,\n",
       " -0.07166920602321625,\n",
       " -0.13088831305503845,\n",
       " -0.015286389738321304,\n",
       " -0.05422703176736832]"
      ]
     },
     "execution_count": 76,
     "metadata": {},
     "output_type": "execute_result"
    }
   ],
   "source": [
    "traced_script_autoencoder.state_dict()['enc_conv1.bias'].numpy().reshape(-1).tolist()"
   ]
  },
  {
   "cell_type": "code",
   "execution_count": 25,
   "id": "5f65a616",
   "metadata": {},
   "outputs": [],
   "source": [
    "traced_script_autoencoder.save(\"traced_autoencoder.pt\")"
   ]
  },
  {
   "cell_type": "code",
   "execution_count": 26,
   "id": "27d251de",
   "metadata": {},
   "outputs": [],
   "source": [
    "torch.save(model.autoencoder.state_dict(), \"state_dict.pt\")"
   ]
  },
  {
   "cell_type": "code",
   "execution_count": 28,
   "id": "cb8a06c6",
   "metadata": {},
   "outputs": [],
   "source": [
    "weights = traced_script_autoencoder.state_dict()['enc_conv1.weight'].numpy()"
   ]
  },
  {
   "cell_type": "code",
   "execution_count": 29,
   "id": "b9fda943",
   "metadata": {},
   "outputs": [
    {
     "data": {
      "text/plain": [
       "array([[[ 0.00854804, -0.03773678,  0.06987573],\n",
       "        [-0.04730097,  0.3222371 ,  0.34401384],\n",
       "        [ 0.05061597,  0.35948023,  0.3445117 ]]], dtype=float32)"
      ]
     },
     "execution_count": 29,
     "metadata": {},
     "output_type": "execute_result"
    }
   ],
   "source": [
    "weights[0]"
   ]
  },
  {
   "cell_type": "code",
   "execution_count": 30,
   "id": "dc2a488a",
   "metadata": {},
   "outputs": [
    {
     "data": {
      "text/plain": [
       "array([[[-0.10211854,  0.27041152,  0.27438268],\n",
       "        [-0.15509762,  0.19823892,  0.2107594 ],\n",
       "        [-0.10551684, -0.07315256, -0.05641284]]], dtype=float32)"
      ]
     },
     "execution_count": 30,
     "metadata": {},
     "output_type": "execute_result"
    }
   ],
   "source": [
    "weights[1]"
   ]
  },
  {
   "cell_type": "code",
   "execution_count": 59,
   "id": "dc49c485",
   "metadata": {},
   "outputs": [],
   "source": [
    "\n"
   ]
  },
  {
   "cell_type": "code",
   "execution_count": 53,
   "id": "8bc74d9c",
   "metadata": {},
   "outputs": [
    {
     "data": {
      "text/plain": [
       "'enc_conv1_weight'"
      ]
     },
     "execution_count": 53,
     "metadata": {},
     "output_type": "execute_result"
    }
   ],
   "source": [
    "'enc.conv1.weight'.replace('.', '_')"
   ]
  },
  {
   "cell_type": "code",
   "execution_count": 54,
   "id": "dd2a975f",
   "metadata": {},
   "outputs": [],
   "source": [
    "\n"
   ]
  },
  {
   "cell_type": "code",
   "execution_count": 57,
   "id": "62a94417",
   "metadata": {},
   "outputs": [
    {
     "data": {
      "text/plain": [
       "array('f', [-0.10211854428052902, 0.27041152119636536, 0.27438268065452576, -0.1550976186990738, 0.19823892414569855, 0.21075940132141113, -0.10551684349775314, -0.0731525644659996, -0.056412842124700546])"
      ]
     },
     "execution_count": 57,
     "metadata": {},
     "output_type": "execute_result"
    }
   ],
   "source": [
    "array('f',weights[1].reshape(-1))"
   ]
  },
  {
   "cell_type": "code",
   "execution_count": 58,
   "id": "ac2993b4",
   "metadata": {},
   "outputs": [
    {
     "data": {
      "text/plain": [
       "array([-0.10211854,  0.27041152,  0.27438268, -0.15509762,  0.19823892,\n",
       "        0.2107594 , -0.10551684, -0.07315256, -0.05641284], dtype=float32)"
      ]
     },
     "execution_count": 58,
     "metadata": {},
     "output_type": "execute_result"
    }
   ],
   "source": [
    "weights[1].reshape(-1)"
   ]
  },
  {
   "cell_type": "code",
   "execution_count": 12,
   "id": "8293eaa3",
   "metadata": {},
   "outputs": [
    {
     "data": {
      "text/plain": [
       "<All keys matched successfully>"
      ]
     },
     "execution_count": 12,
     "metadata": {},
     "output_type": "execute_result"
    }
   ],
   "source": [
    "m = AutoEncoder()\n",
    "m.load_state_dict(torch.load('state_dict.pt'))"
   ]
  },
  {
   "cell_type": "code",
   "execution_count": 13,
   "id": "e3f68e31",
   "metadata": {},
   "outputs": [],
   "source": [
    "weights = m.state_dict()['enc_conv1.weight'].numpy()"
   ]
  },
  {
   "cell_type": "code",
   "execution_count": 15,
   "id": "fb9b64e0",
   "metadata": {},
   "outputs": [
    {
     "data": {
      "text/plain": [
       "array([[[ 0.00854804, -0.03773678,  0.06987573],\n",
       "        [-0.04730097,  0.3222371 ,  0.34401384],\n",
       "        [ 0.05061597,  0.35948023,  0.3445117 ]]], dtype=float32)"
      ]
     },
     "execution_count": 15,
     "metadata": {},
     "output_type": "execute_result"
    }
   ],
   "source": [
    "weights[0]"
   ]
  },
  {
   "cell_type": "code",
   "execution_count": 25,
   "id": "6d9505e1",
   "metadata": {},
   "outputs": [],
   "source": [
    "from array import array\n",
    "\n",
    "\n",
    "def save_model_weights_transpose(model, output_path):\n",
    "    \n",
    "    if not os.path.exists(output_path):\n",
    "        os.makedirs(output_path)\n",
    "        \n",
    "    for param_name, weight in model.named_parameters():\n",
    "        param_name = param_name.replace('.', '_') + '.bin'\n",
    "        param_path = os.path.join(output_path, param_name)\n",
    "        output_file = open(param_path, 'wb')\n",
    "        if 'tconv' in param_name and 'bias' not in param_name:\n",
    "            float_array = array('f', weight.detach().cpu().numpy().transpose((1,0,2,3)).reshape(-1))\n",
    "        else:\n",
    "            float_array = array('f', weight.detach().cpu().numpy().reshape(-1))\n",
    "        float_array.tofile(output_file)\n",
    "        output_file.close()\n",
    "save_model_weights_transpose(m, 'autoencoder_weights_simple')"
   ]
  },
  {
   "cell_type": "code",
   "execution_count": 26,
   "id": "b67b850f",
   "metadata": {},
   "outputs": [],
   "source": []
  },
  {
   "cell_type": "code",
   "execution_count": 31,
   "id": "09962219",
   "metadata": {},
   "outputs": [],
   "source": [
    "weight = np.array([1,2,0,-1,1,3,2,1,0,2,1,2,0,1,2,0,0,1,1,1,0,2,1,2,0,1,0,1,1,2,0,3,0,1,2,3,-1,2,1,0,1,2,0,1,0,1,1,0,2,1,0,2,2,2], dtype=np.float32).reshape(2,3,3,3)"
   ]
  },
  {
   "cell_type": "code",
   "execution_count": 33,
   "id": "8eab5051",
   "metadata": {},
   "outputs": [],
   "source": [
    "bias = np.array([1,2], dtype=np.float32)"
   ]
  },
  {
   "cell_type": "code",
   "execution_count": 34,
   "id": "a5f71e1d",
   "metadata": {},
   "outputs": [],
   "source": [
    "inp = np.array([1,2,3,4,5,6,7,8,9,10,11,12,13,14,15,16,17,18,19,20,21,22,23,24,25,26,27], dtype=np.float32).reshape(3,3,3)"
   ]
  },
  {
   "cell_type": "code",
   "execution_count": 36,
   "id": "3707b75c",
   "metadata": {},
   "outputs": [
    {
     "data": {
      "text/plain": [
       "tensor([[[[139., 197., 115.],\n",
       "          [231., 344., 222.],\n",
       "          [230., 341., 206.]],\n",
       "\n",
       "         [[182., 285., 210.],\n",
       "          [288., 423., 314.],\n",
       "          [174., 251., 200.]]]])"
      ]
     },
     "execution_count": 36,
     "metadata": {},
     "output_type": "execute_result"
    }
   ],
   "source": [
    "t_inp = torch.from_numpy(inp[None])\n",
    "t_weight = torch.from_numpy(weight)\n",
    "t_bias = torch.from_numpy(bias)\n",
    "\n",
    "F.conv2d(t_inp, t_weight, t_bias, padding=1)"
   ]
  },
  {
   "cell_type": "code",
   "execution_count": 31,
   "id": "de416fed",
   "metadata": {},
   "outputs": [],
   "source": [
    "from skimage.io import imread\n",
    "m = AutoEncoder()\n",
    "m.load_state_dict(torch.load('state_dict.pt'))\n",
    "m.eval()\n",
    "img = imread('sample.png')"
   ]
  },
  {
   "cell_type": "code",
   "execution_count": 32,
   "id": "d6c05ced",
   "metadata": {},
   "outputs": [],
   "source": [
    "img = img.astype(np.float32) / 255"
   ]
  },
  {
   "cell_type": "code",
   "execution_count": 33,
   "id": "41952e3a",
   "metadata": {},
   "outputs": [
    {
     "name": "stdout",
     "output_type": "stream",
     "text": [
      "tensor([[[0.4288, 0.5282, 0.4648,  ..., 0.5300, 0.4200, 0.3386],\n",
      "         [0.5420, 0.6269, 0.5712,  ..., 0.6244, 0.5300, 0.3994],\n",
      "         [0.4786, 0.5712, 0.4763,  ..., 0.5643, 0.4597, 0.3691],\n",
      "         ...,\n",
      "         [0.6322, 0.7283, 0.6437,  ..., 0.6460, 0.5366, 0.3909],\n",
      "         [0.4694, 0.5846, 0.5143,  ..., 0.4913, 0.4276, 0.3398],\n",
      "         [0.3782, 0.4546, 0.4240,  ..., 0.3792, 0.3548, 0.2673]],\n",
      "\n",
      "        [[0.4065, 0.5226, 0.4409,  ..., 0.5203, 0.3992, 0.3256],\n",
      "         [0.4890, 0.5366, 0.5054,  ..., 0.5414, 0.4734, 0.3568],\n",
      "         [0.4545, 0.5710, 0.4521,  ..., 0.5614, 0.4373, 0.3574],\n",
      "         ...,\n",
      "         [0.5823, 0.6338, 0.5774,  ..., 0.5686, 0.4850, 0.3505],\n",
      "         [0.4470, 0.5790, 0.4882,  ..., 0.4863, 0.4069, 0.3270],\n",
      "         [0.3682, 0.4345, 0.4070,  ..., 0.3599, 0.3421, 0.2485]],\n",
      "\n",
      "        [[0.1958, 0.2512, 0.2062,  ..., 0.2475, 0.1879, 0.1443],\n",
      "         [0.1620, 0.1792, 0.1598,  ..., 0.1781, 0.1603, 0.1274],\n",
      "         [0.2157, 0.2691, 0.2090,  ..., 0.2642, 0.2035, 0.1551],\n",
      "         ...,\n",
      "         [0.1832, 0.2049, 0.1841,  ..., 0.1758, 0.1566, 0.1167],\n",
      "         [0.2061, 0.2678, 0.2248,  ..., 0.2248, 0.1882, 0.1425],\n",
      "         [0.0819, 0.0908, 0.0897,  ..., 0.0784, 0.0803, 0.0647]],\n",
      "\n",
      "        ...,\n",
      "\n",
      "        [[0.3908, 0.4991, 0.4226,  ..., 0.5021, 0.3845, 0.3213],\n",
      "         [0.4736, 0.5666, 0.5070,  ..., 0.5660, 0.4706, 0.3642],\n",
      "         [0.4355, 0.5535, 0.4319,  ..., 0.5433, 0.4198, 0.3487],\n",
      "         ...,\n",
      "         [0.5552, 0.6597, 0.5700,  ..., 0.5867, 0.4790, 0.3567],\n",
      "         [0.4290, 0.5590, 0.4683,  ..., 0.4729, 0.3918, 0.3218],\n",
      "         [0.3361, 0.4162, 0.3745,  ..., 0.3483, 0.3178, 0.2463]],\n",
      "\n",
      "        [[0.3634, 0.4530, 0.3956,  ..., 0.4531, 0.3590, 0.2909],\n",
      "         [0.4206, 0.4750, 0.4405,  ..., 0.4772, 0.4118, 0.3185],\n",
      "         [0.4083, 0.4938, 0.4061,  ..., 0.4906, 0.3932, 0.3147],\n",
      "         ...,\n",
      "         [0.4939, 0.5539, 0.5004,  ..., 0.4922, 0.4161, 0.3095],\n",
      "         [0.4015, 0.5010, 0.4373,  ..., 0.4232, 0.3663, 0.2905],\n",
      "         [0.2938, 0.3467, 0.3270,  ..., 0.2893, 0.2760, 0.2075]],\n",
      "\n",
      "        [[0.2866, 0.2907, 0.2886,  ..., 0.2802, 0.2724, 0.1207],\n",
      "         [0.2678, 0.2145, 0.2300,  ..., 0.1763, 0.2409, 0.0000],\n",
      "         [0.3059, 0.2791, 0.2749,  ..., 0.2798, 0.2865, 0.1167],\n",
      "         ...,\n",
      "         [0.2693, 0.1891, 0.2537,  ..., 0.1152, 0.2160, 0.0000],\n",
      "         [0.2888, 0.2903, 0.3011,  ..., 0.2389, 0.2673, 0.1121],\n",
      "         [0.0705, 0.0000, 0.0612,  ..., 0.0000, 0.0705, 0.0000]]],\n",
      "       grad_fn=<SelectBackward0>)\n"
     ]
    },
    {
     "data": {
      "text/plain": [
       "tensor([[[[9.2384e-03, 4.1173e-04, 2.9102e-04, 3.8021e-04, 2.9155e-04,\n",
       "           2.1965e-04, 1.3190e-04, 1.6817e-04, 1.5763e-04, 2.0274e-04,\n",
       "           2.4153e-04, 5.8603e-04, 5.8879e-04, 4.2858e-04, 2.1065e-04,\n",
       "           2.2637e-04, 1.6357e-04, 1.3387e-04, 8.5075e-05, 1.2734e-04,\n",
       "           1.4549e-04, 1.9395e-04, 1.8043e-04, 2.8475e-04, 2.7837e-04,\n",
       "           3.8732e-04, 6.9990e-04, 6.9529e-03],\n",
       "          [3.0846e-04, 2.6064e-06, 2.1009e-06, 3.2567e-06, 2.1497e-06,\n",
       "           1.1603e-06, 6.8255e-07, 1.2897e-06, 1.9185e-06, 4.5627e-06,\n",
       "           1.2203e-05, 6.1365e-05, 7.0325e-05, 4.1929e-05, 1.8928e-05,\n",
       "           1.8832e-05, 1.0872e-05, 5.0635e-06, 1.8145e-06, 1.4457e-06,\n",
       "           1.1390e-06, 1.1118e-06, 1.0476e-06, 1.7533e-06, 1.7470e-06,\n",
       "           2.6042e-06, 7.9305e-06, 3.9011e-04],\n",
       "          [1.9835e-04, 1.6673e-06, 1.6797e-06, 3.0832e-06, 1.7662e-06,\n",
       "           1.1079e-06, 1.0043e-06, 4.0353e-06, 1.5319e-05, 1.2204e-04,\n",
       "           1.0085e-03, 8.6913e-03, 1.4462e-02, 1.1442e-02, 7.3324e-03,\n",
       "           5.7947e-03, 2.5305e-03, 4.7911e-04, 4.3288e-05, 6.4907e-06,\n",
       "           1.7879e-06, 1.0238e-06, 7.6042e-07, 1.2088e-06, 1.1210e-06,\n",
       "           1.7475e-06, 5.0008e-06, 2.8040e-04],\n",
       "          [1.7885e-04, 1.5403e-06, 1.7496e-06, 2.5930e-06, 1.3971e-06,\n",
       "           1.2419e-06, 2.3626e-06, 2.0171e-05, 2.2584e-04, 6.2950e-03,\n",
       "           1.2253e-01, 5.7136e-01, 7.3154e-01, 7.1437e-01, 6.8159e-01,\n",
       "           5.8819e-01, 3.3872e-01, 3.0705e-02, 5.7811e-04, 1.6041e-05,\n",
       "           1.9229e-06, 7.1385e-07, 5.2176e-07, 8.8327e-07, 9.9114e-07,\n",
       "           1.6106e-06, 4.7136e-06, 2.6631e-04],\n",
       "          [1.6557e-04, 1.5232e-06, 1.5480e-06, 1.8657e-06, 9.2024e-07,\n",
       "           1.4117e-06, 6.5812e-06, 1.5611e-04, 4.9846e-03, 2.1920e-01,\n",
       "           8.5277e-01, 9.5733e-01, 9.6177e-01, 9.4768e-01, 9.5409e-01,\n",
       "           9.5433e-01, 8.9947e-01, 2.4072e-01, 1.8275e-03, 1.9053e-05,\n",
       "           1.1929e-06, 3.8572e-07, 3.1093e-07, 7.3765e-07, 9.9146e-07,\n",
       "           1.7761e-06, 4.7559e-06, 2.5767e-04],\n",
       "          [1.6099e-04, 1.3661e-06, 1.2527e-06, 1.1830e-06, 6.5390e-07,\n",
       "           1.8562e-06, 3.2755e-05, 3.4049e-03, 2.1425e-01, 8.9595e-01,\n",
       "           9.7159e-01, 9.4946e-01, 8.7277e-01, 7.8858e-01, 8.8016e-01,\n",
       "           9.5658e-01, 9.5342e-01, 4.3512e-01, 2.9700e-03, 1.9694e-05,\n",
       "           9.2760e-07, 2.7179e-07, 2.6429e-07, 8.0279e-07, 1.4709e-06,\n",
       "           2.4309e-06, 5.0026e-06, 2.2682e-04],\n",
       "          [1.6423e-04, 1.5169e-06, 1.0948e-06, 8.8081e-07, 5.2175e-07,\n",
       "           3.1446e-06, 2.1810e-04, 7.1944e-02, 8.5298e-01, 9.7373e-01,\n",
       "           9.3705e-01, 5.5242e-01, 1.5730e-01, 1.1571e-01, 3.9466e-01,\n",
       "           8.8834e-01, 9.4506e-01, 4.9107e-01, 3.8420e-03, 2.5213e-05,\n",
       "           9.8980e-07, 2.8031e-07, 2.7075e-07, 1.1009e-06, 2.4890e-06,\n",
       "           3.7922e-06, 5.1888e-06, 2.0055e-04],\n",
       "          [2.9999e-04, 3.3303e-06, 1.9925e-06, 1.2383e-06, 8.7622e-07,\n",
       "           8.3203e-06, 9.7772e-04, 2.0726e-01, 8.7732e-01, 9.0534e-01,\n",
       "           5.0135e-01, 4.7696e-02, 1.0361e-02, 2.0412e-02, 2.2471e-01,\n",
       "           8.6531e-01, 9.3610e-01, 4.4797e-01, 4.0933e-03, 3.1597e-05,\n",
       "           1.4909e-06, 4.1129e-07, 3.9940e-07, 1.5464e-06, 3.7952e-06,\n",
       "           5.2870e-06, 7.2837e-06, 2.5609e-04],\n",
       "          [5.5173e-04, 8.8319e-06, 4.8293e-06, 2.5559e-06, 1.4243e-06,\n",
       "           9.7041e-06, 4.7113e-04, 3.8190e-02, 2.7897e-01, 2.5100e-01,\n",
       "           4.0492e-02, 5.8556e-03, 4.3837e-03, 3.6000e-02, 5.0678e-01,\n",
       "           9.3640e-01, 9.2616e-01, 2.8409e-01, 2.1334e-03, 2.3696e-05,\n",
       "           1.4274e-06, 4.5597e-07, 3.8124e-07, 1.2532e-06, 2.5141e-06,\n",
       "           4.0080e-06, 6.9918e-06, 2.7489e-04],\n",
       "          [7.5844e-04, 1.4395e-05, 9.4367e-06, 4.0919e-06, 1.4570e-06,\n",
       "           3.6399e-06, 3.9372e-05, 7.9593e-04, 3.8880e-03, 4.2440e-03,\n",
       "           1.5909e-03, 1.3940e-03, 6.4740e-03, 1.8372e-01, 8.6465e-01,\n",
       "           9.5660e-01, 7.9894e-01, 6.4029e-02, 5.7855e-04, 1.1675e-05,\n",
       "           9.7635e-07, 3.2492e-07, 2.5290e-07, 6.6420e-07, 1.1802e-06,\n",
       "           1.7935e-06, 3.5075e-06, 1.7331e-04],\n",
       "          [6.0529e-04, 1.2710e-05, 9.3069e-06, 4.1666e-06, 9.7076e-07,\n",
       "           1.0654e-06, 2.7975e-06, 1.9579e-05, 5.8027e-05, 1.2623e-04,\n",
       "           2.0503e-04, 1.4872e-03, 3.8276e-02, 7.2623e-01, 9.6542e-01,\n",
       "           9.2805e-01, 3.1921e-01, 6.5157e-03, 1.1867e-04, 6.0084e-06,\n",
       "           6.6787e-07, 2.5221e-07, 1.6775e-07, 4.2265e-07, 6.3289e-07,\n",
       "           8.8469e-07, 1.5933e-06, 1.0420e-04],\n",
       "          [4.4690e-04, 6.8595e-06, 5.7100e-06, 3.8390e-06, 1.3124e-06,\n",
       "           9.4452e-07, 9.6233e-07, 2.6430e-06, 6.2869e-06, 2.9334e-05,\n",
       "           2.6123e-04, 1.1402e-02, 4.1197e-01, 9.4766e-01, 9.6121e-01,\n",
       "           6.0834e-01, 2.3375e-02, 4.5455e-04, 2.5390e-05, 4.2331e-06,\n",
       "           9.9991e-07, 4.4921e-07, 2.8590e-07, 5.9626e-07, 8.6446e-07,\n",
       "           1.1074e-06, 2.1474e-06, 1.3317e-04],\n",
       "          [2.4673e-04, 2.3746e-06, 2.0730e-06, 3.0122e-06, 1.8902e-06,\n",
       "           1.4338e-06, 9.9996e-07, 2.1860e-06, 5.9293e-06, 6.6079e-05,\n",
       "           2.2085e-03, 1.8744e-01, 8.9428e-01, 9.6967e-01, 8.3106e-01,\n",
       "           7.5901e-02, 1.0612e-03, 3.6612e-05, 5.2851e-06, 3.2376e-06,\n",
       "           1.5804e-06, 9.2712e-07, 5.5744e-07, 1.1551e-06, 1.5383e-06,\n",
       "           1.9407e-06, 3.7040e-06, 1.9664e-04],\n",
       "          [1.4435e-04, 9.2261e-07, 9.9538e-07, 2.2302e-06, 1.8677e-06,\n",
       "           1.3632e-06, 1.0573e-06, 3.2380e-06, 1.8692e-05, 5.8603e-04,\n",
       "           4.6819e-02, 7.9970e-01, 9.7393e-01, 9.3579e-01, 2.8179e-01,\n",
       "           3.7992e-03, 8.6228e-05, 6.6378e-06, 2.3926e-06, 2.8930e-06,\n",
       "           1.8787e-06, 1.0248e-06, 6.6351e-07, 1.3794e-06, 1.8601e-06,\n",
       "           2.0501e-06, 3.8171e-06, 1.9475e-04],\n",
       "          [9.8334e-05, 6.1020e-07, 8.0035e-07, 2.4078e-06, 2.0185e-06,\n",
       "           1.7573e-06, 2.2639e-06, 1.4601e-05, 1.8831e-04, 1.1207e-02,\n",
       "           4.9353e-01, 9.6535e-01, 9.7992e-01, 7.7389e-01, 3.4423e-02,\n",
       "           4.1884e-04, 1.6054e-05, 2.3951e-06, 1.2897e-06, 2.0534e-06,\n",
       "           1.2248e-06, 7.0080e-07, 4.5241e-07, 1.0147e-06, 1.1155e-06,\n",
       "           1.1030e-06, 1.9221e-06, 1.2443e-04],\n",
       "          [9.6724e-05, 6.8010e-07, 1.3008e-06, 4.0236e-06, 3.5022e-06,\n",
       "           3.8405e-06, 1.0767e-05, 1.5834e-04, 4.5394e-03, 2.1804e-01,\n",
       "           8.9270e-01, 9.7369e-01, 9.2444e-01, 2.6588e-01, 4.2364e-03,\n",
       "           7.9322e-05, 3.9944e-06, 8.0363e-07, 5.9325e-07, 1.2512e-06,\n",
       "           1.0520e-06, 7.7996e-07, 5.4599e-07, 9.1063e-07, 6.6525e-07,\n",
       "           5.1669e-07, 1.0335e-06, 8.9267e-05],\n",
       "          [9.2839e-05, 7.8526e-07, 1.5982e-06, 4.3204e-06, 3.0215e-06,\n",
       "           4.5844e-06, 2.8848e-05, 1.2773e-03, 7.5819e-02, 7.8404e-01,\n",
       "           9.5698e-01, 9.3187e-01, 5.6640e-01, 3.7958e-02, 9.0570e-04,\n",
       "           3.1332e-05, 1.7067e-06, 4.7618e-07, 4.9077e-07, 1.6957e-06,\n",
       "           2.1334e-06, 2.5069e-06, 2.1329e-06, 2.5481e-06, 1.0008e-06,\n",
       "           6.4879e-07, 1.4248e-06, 1.2528e-04],\n",
       "          [1.0985e-04, 9.1220e-07, 1.3666e-06, 2.0924e-06, 1.1637e-06,\n",
       "           2.3045e-06, 3.3936e-05, 4.7508e-03, 3.9408e-01, 9.4366e-01,\n",
       "           9.5349e-01, 7.3601e-01, 1.4041e-01, 9.3977e-03, 6.4282e-04,\n",
       "           6.0702e-05, 6.7857e-06, 3.3753e-06, 5.4004e-06, 2.0208e-05,\n",
       "           3.5485e-05, 6.7715e-05, 8.2920e-05, 7.4916e-05, 2.7676e-05,\n",
       "           1.6230e-05, 2.2572e-05, 6.0853e-04],\n",
       "          [1.3686e-04, 1.1578e-06, 1.0275e-06, 1.0042e-06, 4.2873e-07,\n",
       "           1.1118e-06, 2.9430e-05, 9.0103e-03, 6.3424e-01, 9.6457e-01,\n",
       "           9.2576e-01, 5.2427e-01, 1.0028e-01, 2.1313e-02, 5.2216e-03,\n",
       "           1.5465e-03, 4.3327e-04, 3.5581e-04, 6.7476e-04, 2.1427e-03,\n",
       "           5.3510e-03, 1.4295e-02, 2.1259e-02, 1.8602e-02, 1.1489e-02,\n",
       "           5.1957e-03, 1.9458e-03, 6.1525e-03],\n",
       "          [2.0380e-04, 1.6599e-06, 1.1723e-06, 9.6365e-07, 4.9487e-07,\n",
       "           1.5533e-06, 4.7694e-05, 1.2843e-02, 6.6257e-01, 9.5765e-01,\n",
       "           9.1701e-01, 6.7786e-01, 4.3103e-01, 3.4282e-01, 2.7533e-01,\n",
       "           1.7571e-01, 9.9330e-02, 8.8697e-02, 1.4325e-01, 2.8179e-01,\n",
       "           5.4275e-01, 7.0714e-01, 7.4375e-01, 7.2346e-01, 7.4836e-01,\n",
       "           5.0139e-01, 1.0845e-01, 5.4193e-02],\n",
       "          [2.0280e-04, 1.7590e-06, 1.4210e-06, 1.5544e-06, 9.0406e-07,\n",
       "           2.8507e-06, 6.5583e-05, 1.2553e-02, 6.0970e-01, 9.5911e-01,\n",
       "           9.6542e-01, 9.3942e-01, 9.3397e-01, 9.4229e-01, 9.4882e-01,\n",
       "           9.2430e-01, 8.9703e-01, 8.8086e-01, 9.1396e-01, 9.3821e-01,\n",
       "           9.6314e-01, 9.5951e-01, 9.4541e-01, 9.3067e-01, 9.4979e-01,\n",
       "           8.6754e-01, 3.6905e-01, 1.1476e-01],\n",
       "          [1.5634e-04, 1.3130e-06, 1.6379e-06, 2.2433e-06, 1.3592e-06,\n",
       "           3.3744e-06, 5.7445e-05, 7.1169e-03, 3.9021e-01, 9.0205e-01,\n",
       "           9.5322e-01, 9.5768e-01, 9.6770e-01, 9.7238e-01, 9.7740e-01,\n",
       "           9.7204e-01, 9.6941e-01, 9.6657e-01, 9.7314e-01, 9.6697e-01,\n",
       "           9.4941e-01, 8.5634e-01, 6.8831e-01, 5.6960e-01, 6.3561e-01,\n",
       "           3.8636e-01, 6.8609e-02, 3.3980e-02],\n",
       "          [9.3662e-05, 8.0082e-07, 1.2617e-06, 2.0565e-06, 1.1337e-06,\n",
       "           2.6073e-06, 3.0802e-05, 2.0044e-03, 5.7055e-02, 3.1444e-01,\n",
       "           4.9692e-01, 5.7401e-01, 5.9050e-01, 6.0180e-01, 6.5450e-01,\n",
       "           6.5673e-01, 6.2460e-01, 6.3889e-01, 6.9569e-01, 5.8970e-01,\n",
       "           2.5876e-01, 4.8335e-02, 9.0607e-03, 4.7547e-03, 4.5171e-03,\n",
       "           2.5051e-03, 8.2394e-04, 2.9640e-03],\n",
       "          [7.4555e-05, 5.1557e-07, 7.6786e-07, 1.2090e-06, 8.4380e-07,\n",
       "           1.8650e-06, 1.2211e-05, 1.7784e-04, 9.6133e-04, 2.6403e-03,\n",
       "           4.4725e-03, 5.1417e-03, 3.5115e-03, 3.3734e-03, 4.6354e-03,\n",
       "           5.4394e-03, 3.8960e-03, 4.6596e-03, 6.9561e-03, 5.2741e-03,\n",
       "           1.0664e-03, 1.6697e-04, 3.1827e-05, 1.7578e-05, 1.3141e-05,\n",
       "           1.3835e-05, 2.0393e-05, 5.1895e-04],\n",
       "          [6.2165e-05, 3.3757e-07, 3.5127e-07, 5.9479e-07, 5.1529e-07,\n",
       "           1.1675e-06, 3.2308e-06, 1.0938e-05, 1.0236e-05, 1.1742e-05,\n",
       "           1.1756e-05, 1.3485e-05, 6.9998e-06, 8.1623e-06, 1.0526e-05,\n",
       "           1.5712e-05, 8.9880e-06, 1.2118e-05, 1.7656e-05, 2.3837e-05,\n",
       "           7.7897e-06, 3.0062e-06, 1.0377e-06, 9.5392e-07, 7.4614e-07,\n",
       "           1.3801e-06, 4.6567e-06, 2.9451e-04],\n",
       "          [7.4236e-05, 3.5675e-07, 3.0254e-07, 5.4360e-07, 6.3812e-07,\n",
       "           1.1732e-06, 1.4226e-06, 1.5966e-06, 6.3837e-07, 4.3836e-07,\n",
       "           3.4130e-07, 4.5858e-07, 3.1870e-07, 4.2564e-07, 5.1237e-07,\n",
       "           8.3162e-07, 5.3996e-07, 6.2395e-07, 6.8843e-07, 1.0122e-06,\n",
       "           5.5573e-07, 3.9655e-07, 2.6372e-07, 4.4664e-07, 6.0266e-07,\n",
       "           1.4433e-06, 5.8146e-06, 3.6063e-04],\n",
       "          [1.5680e-04, 1.1634e-06, 8.3672e-07, 1.7917e-06, 2.6775e-06,\n",
       "           4.2762e-06, 2.9873e-06, 2.4856e-06, 9.2514e-07, 6.3010e-07,\n",
       "           4.4829e-07, 8.0028e-07, 7.8409e-07, 1.0991e-06, 1.0680e-06,\n",
       "           1.8529e-06, 1.4026e-06, 1.3092e-06, 8.4902e-07, 1.0890e-06,\n",
       "           7.2974e-07, 6.6171e-07, 5.4471e-07, 1.5289e-06, 3.2593e-06,\n",
       "           7.2111e-06, 1.7786e-05, 7.1067e-04],\n",
       "          [1.7909e-03, 5.9097e-05, 4.2924e-05, 8.6137e-05, 1.2858e-04,\n",
       "           1.6030e-04, 9.3901e-05, 8.2363e-05, 4.7039e-05, 3.9121e-05,\n",
       "           3.1368e-05, 5.5801e-05, 6.5323e-05, 7.8939e-05, 6.8555e-05,\n",
       "           1.0597e-04, 9.3712e-05, 7.4839e-05, 4.2198e-05, 4.9040e-05,\n",
       "           4.1572e-05, 3.9947e-05, 3.5674e-05, 9.1527e-05, 1.8305e-04,\n",
       "           2.7970e-04, 4.5590e-04, 6.3455e-03]]]], grad_fn=<SigmoidBackward0>)"
      ]
     },
     "execution_count": 33,
     "metadata": {},
     "output_type": "execute_result"
    }
   ],
   "source": [
    "m(torch.from_numpy(img[None,None]))"
   ]
  },
  {
   "cell_type": "code",
   "execution_count": null,
   "id": "6195b496",
   "metadata": {},
   "outputs": [],
   "source": []
  }
 ],
 "metadata": {
  "kernelspec": {
   "display_name": "Python 3",
   "language": "python",
   "name": "python3"
  },
  "language_info": {
   "codemirror_mode": {
    "name": "ipython",
    "version": 3
   },
   "file_extension": ".py",
   "mimetype": "text/x-python",
   "name": "python",
   "nbconvert_exporter": "python",
   "pygments_lexer": "ipython3",
   "version": "3.7.10"
  }
 },
 "nbformat": 4,
 "nbformat_minor": 5
}
